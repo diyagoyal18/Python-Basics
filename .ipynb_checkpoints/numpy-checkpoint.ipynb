{
 "cells": [
  {
   "cell_type": "markdown",
   "id": "efb32036",
   "metadata": {},
   "source": [
    "- numpy is a general purpose array processing package"
   ]
  },
  {
   "cell_type": "code",
   "execution_count": 2,
   "id": "41617634",
   "metadata": {},
   "outputs": [
    {
     "name": "stdout",
     "output_type": "stream",
     "text": [
      "Collecting package metadata (current_repodata.json): ...working... done\n",
      "Solving environment: ...working... done\n",
      "\n",
      "## Package Plan ##\n",
      "\n",
      "  environment location: C:\\Users\\diyag\\anaconda3\n",
      "\n",
      "  added / updated specs:\n",
      "    - numpy\n",
      "\n",
      "\n",
      "The following packages will be downloaded:\n",
      "\n",
      "    package                    |            build\n",
      "    ---------------------------|-----------------\n",
      "    ca-certificates-2023.12.12 |       haa95532_0         127 KB\n",
      "    certifi-2023.11.17         |  py311haa95532_0         160 KB\n",
      "    openssl-3.0.12             |       h2bbff1b_0         7.4 MB\n",
      "    ------------------------------------------------------------\n",
      "                                           Total:         7.7 MB\n",
      "\n",
      "The following packages will be UPDATED:\n",
      "\n",
      "  ca-certificates                     2023.08.22-haa95532_0 --> 2023.12.12-haa95532_0 \n",
      "  certifi                         2023.7.22-py311haa95532_0 --> 2023.11.17-py311haa95532_0 \n",
      "  openssl                                 3.0.10-h2bbff1b_2 --> 3.0.12-h2bbff1b_0 \n",
      "\n",
      "\n",
      "\n",
      "Downloading and Extracting Packages\n",
      "\n",
      "openssl-3.0.12       | 7.4 MB    |            |   0% \n",
      "\n",
      "certifi-2023.11.17   | 160 KB    |            |   0% \u001b[A\n",
      "\n",
      "\n",
      "ca-certificates-2023 | 127 KB    |            |   0% \u001b[A\u001b[A\n",
      "\n",
      "certifi-2023.11.17   | 160 KB    | #          |  10% \u001b[A\n",
      "\n",
      "\n",
      "ca-certificates-2023 | 127 KB    | #2         |  13% \u001b[A\u001b[A\n",
      "openssl-3.0.12       | 7.4 MB    |            |   0% \n",
      "openssl-3.0.12       | 7.4 MB    | 2          |   3% \n",
      "\n",
      "\n",
      "ca-certificates-2023 | 127 KB    | ########## | 100% \u001b[A\u001b[A\n",
      "\n",
      "\n",
      "ca-certificates-2023 | 127 KB    | ########## | 100% \u001b[A\u001b[A\n",
      "\n",
      "certifi-2023.11.17   | 160 KB    | ########## | 100% \u001b[A\n",
      "\n",
      "certifi-2023.11.17   | 160 KB    | ########## | 100% \u001b[A\n",
      "openssl-3.0.12       | 7.4 MB    | 8          |   9% \n",
      "openssl-3.0.12       | 7.4 MB    | ##         |  20% \n",
      "openssl-3.0.12       | 7.4 MB    | ###5       |  36% \n",
      "openssl-3.0.12       | 7.4 MB    | #####1     |  51% \n",
      "openssl-3.0.12       | 7.4 MB    | ######6    |  67% \n",
      "openssl-3.0.12       | 7.4 MB    | ########1  |  82% \n",
      "openssl-3.0.12       | 7.4 MB    | #########7 |  98% \n",
      "openssl-3.0.12       | 7.4 MB    | ########## | 100% \n",
      "                                                     \n",
      "\n",
      "\n",
      "                                                     \u001b[A\n",
      "\n",
      "\n",
      "                                                     \u001b[A\u001b[A\n",
      "\n",
      "Preparing transaction: ...working... done\n",
      "Verifying transaction: ...working... done\n",
      "Executing transaction: ...working... done\n",
      "\n",
      "Note: you may need to restart the kernel to use updated packages.\n"
     ]
    },
    {
     "name": "stderr",
     "output_type": "stream",
     "text": [
      "\n",
      "\n",
      "==> WARNING: A newer version of conda exists. <==\n",
      "  current version: 23.7.4\n",
      "  latest version: 23.11.0\n",
      "\n",
      "Please update conda by running\n",
      "\n",
      "    $ conda update -n base -c defaults conda\n",
      "\n",
      "Or to minimize the number of packages updated during conda update use\n",
      "\n",
      "     conda install conda=23.11.0\n",
      "\n",
      "\n"
     ]
    }
   ],
   "source": [
    "conda install numpy"
   ]
  },
  {
   "cell_type": "code",
   "execution_count": 3,
   "id": "779808d3",
   "metadata": {},
   "outputs": [
    {
     "name": "stdout",
     "output_type": "stream",
     "text": [
      "Collecting package metadata (current_repodata.json): ...working... done\n",
      "Solving environment: ...working... done\n",
      "\n",
      "# All requested packages already installed.\n",
      "\n",
      "\n",
      "Note: you may need to restart the kernel to use updated packages.\n"
     ]
    },
    {
     "name": "stderr",
     "output_type": "stream",
     "text": [
      "\n",
      "\n",
      "==> WARNING: A newer version of conda exists. <==\n",
      "  current version: 23.7.4\n",
      "  latest version: 23.11.0\n",
      "\n",
      "Please update conda by running\n",
      "\n",
      "    $ conda update -n base -c defaults conda\n",
      "\n",
      "Or to minimize the number of packages updated during conda update use\n",
      "\n",
      "     conda install conda=23.11.0\n",
      "\n",
      "\n"
     ]
    }
   ],
   "source": [
    "conda install numpy"
   ]
  },
  {
   "cell_type": "code",
   "execution_count": 6,
   "id": "ea4774f4",
   "metadata": {},
   "outputs": [],
   "source": [
    "import numpy as np"
   ]
  },
  {
   "cell_type": "code",
   "execution_count": null,
   "id": "a0c8243c",
   "metadata": {},
   "outputs": [],
   "source": [
    "conda update -n base -c defaults conda"
   ]
  },
  {
   "cell_type": "code",
   "execution_count": null,
   "id": "a324db26",
   "metadata": {},
   "outputs": [],
   "source": [
    "conda install conda=23.11.0"
   ]
  },
  {
   "cell_type": "code",
   "execution_count": null,
   "id": "dd5ee360",
   "metadata": {},
   "outputs": [],
   "source": []
  }
 ],
 "metadata": {
  "kernelspec": {
   "display_name": "Python 3 (ipykernel)",
   "language": "python",
   "name": "python3"
  },
  "language_info": {
   "codemirror_mode": {
    "name": "ipython",
    "version": 3
   },
   "file_extension": ".py",
   "mimetype": "text/x-python",
   "name": "python",
   "nbconvert_exporter": "python",
   "pygments_lexer": "ipython3",
   "version": "3.11.5"
  }
 },
 "nbformat": 4,
 "nbformat_minor": 5
}
