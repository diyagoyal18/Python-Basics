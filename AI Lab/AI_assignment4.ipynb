{
  "cells": [
    {
      "cell_type": "code",
      "execution_count": 5,
      "metadata": {
        "colab": {
          "base_uri": "https://localhost:8080/"
        },
        "id": "PifgAU3zXxTj",
        "outputId": "5f9c2b6d-adba-4677-b41f-e6f8586c1ca1"
      },
      "outputs": [
        {
          "name": "stdout",
          "output_type": "stream",
          "text": [
            "Name: Diya Goyal\n",
            "Roll Number: 102215255\n"
          ]
        }
      ],
      "source": [
        "def print_name_and_roll():\n",
        "    name = \"Diya Goyal\"\n",
        "    roll_number = \"102215255\"\n",
        "    print(f\"Name: {name}\")\n",
        "    print(f\"Roll Number: {roll_number}\")\n",
        "\n",
        "# Call the function\n",
        "print_name_and_roll()\n"
      ]
    },
    {
      "cell_type": "markdown",
      "metadata": {
        "id": "_aqGRSUg7AKP"
      },
      "source": [
        "Create a 3d array of shape (2, 2, 2), containing 8 values. Access individual elements and slices.\n",
        "\n",
        "\n",
        "\n",
        "\n"
      ]
    },
    {
      "cell_type": "code",
      "execution_count": 6,
      "metadata": {
        "colab": {
          "base_uri": "https://localhost:8080/"
        },
        "id": "Y2EMoZ2K6P5U",
        "outputId": "5f1a6acd-da50-4ac0-fb57-98752e4afe64"
      },
      "outputs": [
        {
          "name": "stdout",
          "output_type": "stream",
          "text": [
            "[[[1 2]\n",
            "  [3 4]]\n",
            "\n",
            " [[5 6]\n",
            "  [7 8]]]\n",
            "3\n",
            "[[1 2]\n",
            " [3 4]]\n",
            "[[3 4]\n",
            " [7 8]]\n",
            "Name: Diya Goyal\n",
            "Roll Number: 102215255\n"
          ]
        }
      ],
      "source": [
        "import numpy as np\n",
        "\n",
        "arr = np.array([[[1, 2], [3, 4]], [[5, 6], [7, 8]]])\n",
        "element = arr[0, 1, 0]\n",
        "slice_1 = arr[0, :, :]\n",
        "slice_2 = arr[:, 1, :]\n",
        "\n",
        "print(arr)\n",
        "print(element)\n",
        "print(slice_1)\n",
        "print(slice_2)\n",
        "print_name_and_roll()\n"
      ]
    },
    {
      "cell_type": "markdown",
      "metadata": {
        "id": "QVRIA-3J8BqP"
      },
      "source": [
        "Rewrite the relu function (see Python section) using np.maximum. Check that it works on both a single value and on an array of values."
      ]
    },
    {
      "cell_type": "code",
      "execution_count": 7,
      "metadata": {
        "colab": {
          "base_uri": "https://localhost:8080/"
        },
        "id": "40EwGbct7yvx",
        "outputId": "d9aa2fd0-d41c-461f-f206-64f41d7ba4d9"
      },
      "outputs": [
        {
          "name": "stdout",
          "output_type": "stream",
          "text": [
            "ReLU of -5: 0\n",
            "ReLU of [ 1.  -3.   2.5]: [1.  0.  2.5]\n",
            "Name: Diya Goyal\n",
            "Roll Number: 102215255\n"
          ]
        }
      ],
      "source": [
        "def relu(x):\n",
        "  return np.maximum(0, x)\n",
        "\n",
        "# Test on a single value\n",
        "value = -5\n",
        "print(f\"ReLU of {value}: {relu(value)}\")\n",
        "\n",
        "# Test on an array of values\n",
        "arr = np.array([1, -3, 2.5])\n",
        "print(f\"ReLU of {arr}: {relu(arr)}\")\n",
        "print_name_and_roll()\n"
      ]
    },
    {
      "cell_type": "markdown",
      "metadata": {
        "id": "h2wR9W-c8iPI"
      },
      "source": [
        "Rewrite the Euclidean norm of a vector (1d array) using NumPy (without for loop)\n"
      ]
    },
    {
      "cell_type": "code",
      "execution_count": 8,
      "metadata": {
        "colab": {
          "base_uri": "https://localhost:8080/"
        },
        "id": "fJoBtLiG8g_-",
        "outputId": "bac5a3d4-3355-416e-86bc-d175b58a0aa0"
      },
      "outputs": [
        {
          "name": "stdout",
          "output_type": "stream",
          "text": [
            "Euclidean norm of [ 0.5 -1.2  3.3  4.5]: 5.729746940310715\n",
            "Name: Diya Goyal\n",
            "Roll Number: 102215255\n"
          ]
        }
      ],
      "source": [
        "def euclidean_norm(vector):\n",
        "  return np.linalg.norm(vector)\n",
        "\n",
        "# Example usage\n",
        "vector = np.array([0.5, -1.2, 3.3, 4.5])\n",
        "norm = euclidean_norm(vector)\n",
        "print(f\"Euclidean norm of {vector}: {norm}\")\n",
        "print_name_and_roll()\n"
      ]
    },
    {
      "cell_type": "markdown",
      "metadata": {
        "id": "h58HiBss9HfV"
      },
      "source": [
        "Write a function that computes the Euclidean norms of a matrix (2d array) in a row-wise fashion. Hint: use the axis argument of np.sum."
      ]
    },
    {
      "cell_type": "code",
      "execution_count": 9,
      "metadata": {
        "colab": {
          "base_uri": "https://localhost:8080/"
        },
        "id": "lpPj7ASq86i_",
        "outputId": "4b9a4812-88a4-429e-fc84-7522794c24b6"
      },
      "outputs": [
        {
          "name": "stdout",
          "output_type": "stream",
          "text": [
            "Row-wise Euclidean norms of the matrix:\n",
            "[3.74165739 8.77496439]\n",
            "Name: Diya Goyal\n",
            "Roll Number: 102215255\n"
          ]
        }
      ],
      "source": [
        "\n",
        "def row_wise_euclidean_norms(matrix):\n",
        "  return np.sqrt(np.sum(matrix**2, axis=1))\n",
        "\n",
        "# Example usage\n",
        "matrix = np.array([[1, 2, 3], [4, 5, 6]])\n",
        "norms = row_wise_euclidean_norms(matrix)\n",
        "print(f\"Row-wise Euclidean norms of the matrix:\\n{norms}\")\n",
        "print_name_and_roll()\n"
      ]
    },
    {
      "cell_type": "markdown",
      "metadata": {
        "id": "AidRSoae9Y-n"
      },
      "source": [
        "Compute the mean value of the features in the iris dataset. Hint: use the axis argument on np.mean."
      ]
    },
    {
      "cell_type": "code",
      "execution_count": 10,
      "metadata": {
        "colab": {
          "base_uri": "https://localhost:8080/"
        },
        "id": "M7Qjn0-m9Zke",
        "outputId": "7436c4cf-b07c-4574-9ebd-c4af136a2bd9"
      },
      "outputs": [
        {
          "name": "stdout",
          "output_type": "stream",
          "text": [
            "Mean values of the features:\n",
            "sepal length (cm): 5.84\n",
            "Name: Diya Goyal\n",
            "Roll Number: 102215255\n",
            "sepal width (cm): 3.06\n",
            "Name: Diya Goyal\n",
            "Roll Number: 102215255\n",
            "petal length (cm): 3.76\n",
            "Name: Diya Goyal\n",
            "Roll Number: 102215255\n",
            "petal width (cm): 1.20\n",
            "Name: Diya Goyal\n",
            "Roll Number: 102215255\n"
          ]
        }
      ],
      "source": [
        "from sklearn.datasets import load_iris\n",
        "import numpy as np\n",
        "\n",
        "iris = load_iris()\n",
        "data = iris.data\n",
        "\n",
        "mean_values = np.mean(data, axis=0)\n",
        "\n",
        "print(\"Mean values of the features:\")\n",
        "for i, feature_name in enumerate(iris.feature_names):\n",
        "  print(f\"{feature_name}: {mean_values[i]:.2f}\")\n",
        "  print_name_and_roll()\n"
      ]
    },
    {
      "cell_type": "markdown",
      "metadata": {
        "id": "VDvmgPEf9r3Y"
      },
      "source": [
        "Plot the relu and the softplus#Softplus) functions on the same graph."
      ]
    },
    {
      "cell_type": "code",
      "execution_count": 11,
      "metadata": {
        "colab": {
          "base_uri": "https://localhost:8080/",
          "height": 507
        },
        "id": "8dm5Qzh39u1c",
        "outputId": "ac4db3c0-054f-4f50-a166-a44c02e1ff8b"
      },
      "outputs": [
        {
          "data": {
            "image/png": "[encoded data removed]",
            "text/plain": [
              "<Figure size 640x480 with 1 Axes>"
            ]
          },
          "metadata": {},
          "output_type": "display_data"
        },
        {
          "name": "stdout",
          "output_type": "stream",
          "text": [
            "Name: Diya Goyal\n",
            "Roll Number: 102215255\n"
          ]
        }
      ],
      "source": [
        "import numpy as np\n",
        "import matplotlib.pyplot as plt\n",
        "\n",
        "def relu(x):\n",
        "  return np.maximum(0, x)\n",
        "\n",
        "def softplus(x):\n",
        "  return np.log(1 + np.exp(x))\n",
        "\n",
        "x = np.linspace(-5, 5, 100)\n",
        "\n",
        "y_relu = relu(x)\n",
        "y_softplus = softplus(x)\n",
        "\n",
        "plt.plot(x, y_relu, label=\"ReLU\")\n",
        "plt.plot(x, y_softplus, label=\"Softplus\")\n",
        "\n",
        "plt.xlabel(\"x\")\n",
        "plt.ylabel(\"y\")\n",
        "plt.title(\"ReLU and Softplus Functions\")\n",
        "plt.legend()\n",
        "\n",
        "plt.show()\n",
        "print_name_and_roll()\n"
      ]
    },
    {
      "cell_type": "markdown",
      "metadata": {
        "id": "A2loiPj894gS"
      },
      "source": [
        ":Repeat the same scatter plot but using the digits dataset instead."
      ]
    },
    {
      "cell_type": "code",
      "execution_count": 12,
      "metadata": {
        "colab": {
          "base_uri": "https://localhost:8080/",
          "height": 599
        },
        "id": "lzzsN_nQ9zTZ",
        "outputId": "7063de54-ad62-485c-d68e-658ad0975cca"
      },
      "outputs": [
        {
          "data": {
            "image/png": "[encoded data removed]",
            "text/plain": [
              "<Figure size 1000x600 with 2 Axes>"
            ]
          },
          "metadata": {},
          "output_type": "display_data"
        },
        {
          "name": "stdout",
          "output_type": "stream",
          "text": [
            "Name: Diya Goyal\n",
            "Roll Number: 102215255\n"
          ]
        }
      ],
      "source": [
        "import numpy as np\n",
        "import matplotlib.pyplot as plt\n",
        "from sklearn.datasets import load_digits\n",
        "\n",
        "# Load digits dataset\n",
        "digits = load_digits()\n",
        "X = digits.data\n",
        "y = digits.target\n",
        "\n",
        "# Extract the first two features\n",
        "x_axis = X[:, 0]\n",
        "y_axis = X[:, 1]\n",
        "\n",
        "# Apply ReLU and Softplus transformations to the first two features\n",
        "relu_x = np.maximum(0, x_axis)\n",
        "softplus_y = np.log(1 + np.exp(y_axis))\n",
        "\n",
        "# Scatter plot with color representing the digit labels\n",
        "plt.figure(figsize=(10, 6))\n",
        "plt.scatter(relu_x, softplus_y, c=y, cmap=\"viridis\", alpha=0.7, s=15)\n",
        "\n",
        "# Labels and title\n",
        "plt.xlabel(\"ReLU of Feature 0\")\n",
        "plt.ylabel(\"Softplus of Feature 1\")\n",
        "plt.title(\"Scatter Plot of Digits Dataset with ReLU and Softplus Transformations\")\n",
        "plt.colorbar(label=\"Digit Label\")\n",
        "\n",
        "plt.show()\n",
        "print_name_and_roll()\n",
        "\n"
      ]
    }
  ],
  "metadata": {
    "colab": {
      "provenance": []
    },
    "kernelspec": {
      "display_name": "Python 3",
      "name": "python3"
    },
    "language_info": {
      "name": "python"
    }
  },
  "nbformat": 4,
  "nbformat_minor": 0
}
