{
  "cells": [
    {
      "cell_type": "code",
      "execution_count": 1,
      "metadata": {},
      "outputs": [
        {
          "name": "stdout",
          "output_type": "stream",
          "text": [
            "Name: Diya Goyal\n",
            "Roll Number: 102215255\n"
          ]
        }
      ],
      "source": [
        "def print_name_and_roll():\n",
        "    name = \"Diya Goyal\"\n",
        "    roll_number = \"102215255\"\n",
        "    print(f\"Name: {name}\")\n",
        "    print(f\"Roll Number: {roll_number}\")\n",
        "\n",
        "# Call the function\n",
        "print_name_and_roll()\n"
      ]
    },
    {
      "cell_type": "markdown",
      "metadata": {
        "id": "5V4Ju08TWlKH"
      },
      "source": [
        "1. Create a class for a Student with attributes name, rollno, and marks. Implement\n",
        "a method to display student information."
      ]
    },
    {
      "cell_type": "code",
      "execution_count": 2,
      "metadata": {
        "colab": {
          "base_uri": "https://localhost:8080/"
        },
        "id": "wuElnNgZSjba",
        "outputId": "d4ded635-2bc0-46f7-9e27-845e12f201b8"
      },
      "outputs": [
        {
          "name": "stdout",
          "output_type": "stream",
          "text": [
            "Student Name: John Doe\n",
            "Roll No: 101\n",
            "Marks: 85\n",
            "Name: Diya Goyal\n",
            "Roll Number: 102215255\n"
          ]
        }
      ],
      "source": [
        "class Student:\n",
        "    def __init__(self, name, rollno, marks):\n",
        "        self.name = name\n",
        "        self.rollno = rollno\n",
        "        self.marks = marks\n",
        "\n",
        "    def display_info(self):\n",
        "        print(f\"Student Name: {self.name}\")\n",
        "        print(f\"Roll No: {self.rollno}\")\n",
        "        print(f\"Marks: {self.marks}\")\n",
        "\n",
        "student1 = Student(\"John Doe\", 101, 85)\n",
        "student1.display_info()\n",
        "print_name_and_roll()\n"
      ]
    },
    {
      "cell_type": "markdown",
      "metadata": {
        "id": "N7KCQ57XWo3b"
      },
      "source": [
        "2. Write a Python program to create a Student class with the details given in the\n",
        "previous question. Call the method display() to display student details. Also,\n",
        "write a method (get avg) to get average marks."
      ]
    },
    {
      "cell_type": "code",
      "execution_count": 4,
      "metadata": {
        "colab": {
          "base_uri": "https://localhost:8080/"
        },
        "id": "ZHhebzBxTvG4",
        "outputId": "a0fa7f34-273f-4ba3-f4f8-63094f7caa1b"
      },
      "outputs": [
        {
          "name": "stdout",
          "output_type": "stream",
          "text": [
            "Student Name: Diya\n",
            "Roll No: 101\n",
            "Marks: [85, 90, 78, 88, 92]\n",
            "Average Marks: 86.60\n",
            "Name: Diya Goyal\n",
            "Roll Number: 102215255\n"
          ]
        }
      ],
      "source": [
        "class Student:\n",
        "    def __init__(self, name, rollno, marks):\n",
        "        self.name = name\n",
        "        self.rollno = rollno\n",
        "        self.marks = marks\n",
        "\n",
        "    def display(self):\n",
        "        print(f\"Student Name: {self.name}\")\n",
        "        print(f\"Roll No: {self.rollno}\")\n",
        "        print(f\"Marks: {self.marks}\")\n",
        "\n",
        "    def get_avg(self):\n",
        "        return sum(self.marks) / len(self.marks) if self.marks else 0\n",
        "\n",
        "\n",
        "student1 = Student(\"Diya\", 101, [85, 90, 78, 88, 92])\n",
        "student1.display()\n",
        "\n",
        "\n",
        "avg_marks = student1.get_avg()\n",
        "print(f\"Average Marks: {avg_marks:.2f}\")\n",
        "print_name_and_roll()\n"
      ]
    },
    {
      "cell_type": "markdown",
      "metadata": {
        "id": "hYLXXN5oWsA9"
      },
      "source": [
        "3. Create a class representing a Rectangle with attributes length and width. Imple-\n",
        "ment methods to calculate its area and perimeter."
      ]
    },
    {
      "cell_type": "code",
      "execution_count": null,
      "metadata": {
        "colab": {
          "base_uri": "https://localhost:8080/"
        },
        "id": "NiboauGPUWZB",
        "outputId": "77821999-9f28-4d41-d2f6-dfc05f4dd758"
      },
      "outputs": [
        {
          "name": "stdout",
          "output_type": "stream",
          "text": [
            "Area of Rectangle: 50\n",
            "Perimeter of Rectangle: 30\n"
          ]
        }
      ],
      "source": [
        "class Rectangle:\n",
        "    def __init__(self, length, width):\n",
        "        self.length = length\n",
        "        self.width = width\n",
        "\n",
        "    def calculate_area(self):\n",
        "        return self.length * self.width\n",
        "\n",
        "    def calculate_perimeter(self):\n",
        "        return 2 * (self.length + self.width)\n",
        "\n",
        "rect = Rectangle(10, 5)\n",
        "print(f\"Area of Rectangle: {rect.calculate_area()}\")\n",
        "print(f\"Perimeter of Rectangle: {rect.calculate_perimeter()}\")\n",
        "print_name_and_roll()\n"
      ]
    },
    {
      "cell_type": "markdown",
      "metadata": {
        "id": "rp651mldW0Ci"
      },
      "source": [
        "4. Define a class for a BankAccount with methods to deposit, withdraw, and check\n",
        "balance. Ensure proper encapsulation of data."
      ]
    },
    {
      "cell_type": "code",
      "execution_count": null,
      "metadata": {
        "colab": {
          "base_uri": "https://localhost:8080/"
        },
        "id": "63zOFHSwUrgO",
        "outputId": "7e968dc3-540a-4dc7-a7e7-8dddf7b125cf"
      },
      "outputs": [
        {
          "name": "stdout",
          "output_type": "stream",
          "text": [
            "Successfully deposited 200. New balance: 700\n",
            "Successfully withdrew 100. Remaining balance: 600\n",
            "Current balance: 600\n"
          ]
        }
      ],
      "source": [
        "class BankAccount:\n",
        "    def __init__(self, account_holder, balance=0):\n",
        "        self.__account_holder = account_holder\n",
        "        self.__balance = balance\n",
        "\n",
        "    def deposit(self, amount):\n",
        "        if amount > 0:\n",
        "            self.__balance += amount\n",
        "            print(f\"Successfully deposited {amount}. New balance: {self.__balance}\")\n",
        "        else:\n",
        "            print(\"Deposit amount must be positive!\")\n",
        "\n",
        "    def withdraw(self, amount):\n",
        "        if 0 < amount <= self.__balance:\n",
        "            self.__balance -= amount\n",
        "            print(f\"Successfully withdrew {amount}. Remaining balance: {self.__balance}\")\n",
        "        else:\n",
        "            print(\"Insufficient balance or invalid amount!\")\n",
        "\n",
        "    def check_balance(self):\n",
        "        print(f\"Current balance: {self.__balance}\")\n",
        "\n",
        "account = BankAccount(\"John Doe\", 500)\n",
        "\n",
        "account.deposit(200)\n",
        "account.withdraw(100)\n",
        "account.check_balance()"
      ]
    },
    {
      "cell_type": "markdown",
      "metadata": {
        "id": "0h6zLOmnW29b"
      },
      "source": [
        "5. Write a Python program with a class that has attributes like title, actor, and actress\n",
        "in its constructor and another method that prints all these properties.\n",
        "\n",
        "(a) Prompt the user to enter all this information and add this info to a list.\n",
        "\n",
        "(b) Keep the prompt open. Add all this information until the user replies to ’No’\n",
        "and then display all this information on the list."
      ]
    },
    {
      "cell_type": "code",
      "execution_count": 1,
      "metadata": {
        "colab": {
          "base_uri": "https://localhost:8080/"
        },
        "id": "pUQo3-3OVdNk",
        "outputId": "d6561870-71f0-4e3f-9e0c-c642b036f34f"
      },
      "outputs": [
        {
          "name": "stdout",
          "output_type": "stream",
          "text": [
            "Enter the movie title: Rehna hai tere dil mai\n",
            "Enter the lead actor: R.Madhavan\n",
            "Enter the lead actress: Dia Mirza\n",
            "Do you want to add another movie? (Yes/No): No\n",
            "\n",
            "Movies Information:\n",
            "Title: Rehna hai tere dil mai, Actor: R.Madhavan, Actress: Dia Mirza\n"
          ]
        }
      ],
      "source": [
        "class Movie:\n",
        "    def __init__(self, title, actor, actress):\n",
        "        self.title = title\n",
        "        self.actor = actor\n",
        "        self.actress = actress\n",
        "\n",
        "    def display(self):\n",
        "        print(f\"Title: {self.title}, Actor: {self.actor}, Actress: {self.actress}\")\n",
        "\n",
        "\n",
        "movies = []\n",
        "\n",
        "while True:\n",
        "\n",
        "    title = input(\"Enter the movie title: \")\n",
        "    actor = input(\"Enter the lead actor: \")\n",
        "    actress = input(\"Enter the lead actress: \")\n",
        "\n",
        "\n",
        "    movie = Movie(title, actor, actress)\n",
        "    movies.append(movie)\n",
        "\n",
        "\n",
        "    more = input(\"Do you want to add another movie? (Yes/No): \").strip().lower()\n",
        "    if more == 'no':\n",
        "        break\n",
        "\n",
        "\n",
        "print(\"\\nMovies Information:\")\n",
        "for movie in movies:\n",
        "    movie.display()\n"
      ]
    },
    {
      "cell_type": "markdown",
      "metadata": {},
      "source": [
        "Write a python programming defining sorting algorithms"
      ]
    },
    {
      "cell_type": "code",
      "execution_count": null,
      "metadata": {},
      "outputs": [
        {
          "ename": "",
          "evalue": "",
          "output_type": "error",
          "traceback": [
            "\u001b[1;31mRunning cells with 'Python 3.10.11' requires the ipykernel package.\n",
            "\u001b[1;31mRun the following command to install 'ipykernel' into the Python environment. \n",
            "\u001b[1;31mCommand: 'c:/Users/diyag/AppData/Local/Programs/Python/Python310/python.exe -m pip install ipykernel -U --user --force-reinstall'"
          ]
        }
      ],
      "source": [
        "def bubble_sort(arr):\n",
        "    n = len(arr)\n",
        "    for i in range(n):\n",
        "        for j in range(0, n-i-1):\n",
        "            if arr[j] > arr[j+1]:\n",
        "                arr[j], arr[j+1] = arr[j+1], arr[j]\n",
        "    return arr\n",
        "\n",
        "def insertion_sort(arr):\n",
        "    for i in range(1, len(arr)):\n",
        "        key = arr[i]\n",
        "        j = i - 1\n",
        "        while j >= 0 and key < arr[j]:\n",
        "            arr[j + 1] = arr[j]\n",
        "            j -= 1\n",
        "        arr[j + 1] = key\n",
        "    return arr\n",
        "\n",
        "def merge_sort(arr):\n",
        "    if len(arr) > 1:\n",
        "        mid = len(arr) // 2\n",
        "        left_half = arr[:mid]\n",
        "        right_half = arr[mid:]\n",
        "\n",
        "        merge_sort(left_half)\n",
        "        merge_sort(right_half)\n",
        "\n",
        "        i = j = k = 0\n",
        "\n",
        "        while i < len(left_half) and j < len(right_half):\n",
        "            if left_half[i] < right_half[j]:\n",
        "                arr[k] = left_half[i]\n",
        "                i += 1\n",
        "            else:\n",
        "                arr[k] = right_half[j]\n",
        "                j += 1\n",
        "            k += 1\n",
        "\n",
        "        while i < len(left_half):\n",
        "            arr[k] = left_half[i]\n",
        "            i += 1\n",
        "            k += 1\n",
        "\n",
        "        while j < len(right_half):\n",
        "            arr[k] = right_half[j]\n",
        "            j += 1\n",
        "            k += 1\n",
        "    return arr\n",
        "\n",
        "def main():\n",
        "    arr = list(map(int, input(\"Enter the numbers separated by spaces: \").split()))\n",
        "    \n",
        "    print(\"Choose sorting algorithm:\")\n",
        "    print(\"1. Bubble Sort\")S\n",
        "    print(\"2. Insertion Sort\")\n",
        "    print(\"3. Merge Sort\")\n",
        "    choice = int(input(\"Enter your choice (1/2/3): \"))\n",
        "\n",
        "    if choice == 1:\n",
        "        sorted_arr = bubble_sort(arr)\n",
        "        print(\"Sorted list using Bubble Sort:\", sorted_arr)\n",
        "    elif choice == 2:\n",
        "        sorted_arr = insertion_sort(arr)\n",
        "        print(\"Sorted list using Insertion Sort:\", sorted_arr)\n",
        "    elif choice == 3:\n",
        "        sorted_arr = merge_sort(arr)\n",
        "        print(\"Sorted list using Merge Sort:\", sorted_arr)\n",
        "    else:\n",
        "        print(\"Invalid choice. Please select 1, 2, or 3.\")\n",
        "\n",
        "if __name__ == \"__main__\":\n",
        "    main()\n"
      ]
    },
    {
      "cell_type": "code",
      "execution_count": null,
      "metadata": {},
      "outputs": [
        {
          "ename": "",
          "evalue": "",
          "output_type": "error",
          "traceback": [
            "\u001b[1;31mRunning cells with 'base (Python 3.11.5)' requires the ipykernel package.\n",
            "\u001b[1;31mRun the following command to install 'ipykernel' into the Python environment. \n",
            "\u001b[1;31mCommand: 'conda install -n base ipykernel --update-deps --force-reinstall'"
          ]
        }
      ],
      "source": []
    },
    {
      "cell_type": "code",
      "execution_count": null,
      "metadata": {},
      "outputs": [],
      "source": []
    }
  ],
  "metadata": {
    "colab": {
      "provenance": []
    },
    "kernelspec": {
      "display_name": "Python 3",
      "name": "python3"
    },
    "language_info": {
      "codemirror_mode": {
        "name": "ipython",
        "version": 3
      },
      "file_extension": ".py",
      "mimetype": "text/x-python",
      "name": "python",
      "nbconvert_exporter": "python",
      "pygments_lexer": "ipython3",
      "version": "3.11.7"
    }
  },
  "nbformat": 4,
  "nbformat_minor": 0
}
