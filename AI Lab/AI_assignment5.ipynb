{
 "cells": [
  {
   "cell_type": "code",
   "execution_count": 4,
   "metadata": {},
   "outputs": [
    {
     "name": "stdout",
     "output_type": "stream",
     "text": [
      "Name: Diya Goyal\n",
      "Roll Number: 102215255\n"
     ]
    }
   ],
   "source": [
    "def print_name_and_roll():\n",
    "    name = \"Diya Goyal\"\n",
    "    roll_number = \"102215255\"\n",
    "    print(f\"Name: {name}\")\n",
    "    print(f\"Roll Number: {roll_number}\")\n",
    "\n",
    "# Call the function\n",
    "print_name_and_roll()\n"
   ]
  },
  {
   "cell_type": "markdown",
   "metadata": {},
   "source": [
    "Q1                                \n",
    "a part"
   ]
  },
  {
   "cell_type": "code",
   "execution_count": 5,
   "metadata": {},
   "outputs": [
    {
     "name": "stdout",
     "output_type": "stream",
     "text": [
      "Graph 1 Path: ['S', 'D', 'F', 'G']\n",
      "Graph 1 Total Cost: 11.5\n",
      "Name: Diya Goyal\n",
      "Roll Number: 102215255\n"
     ]
    }
   ],
   "source": [
    "from queue import PriorityQueue\n",
    "\n",
    "graph1 = {\n",
    "    'S': {'A': 3, 'D': 4},\n",
    "    'A': {'B': 4, 'D': 5},\n",
    "    'B': {'C': 4, 'E': 5},\n",
    "    'C': {'G': 3.4},\n",
    "    'D': {'E': 2, 'F': 4},\n",
    "    'E': {'F': 4},\n",
    "    'F': {'G': 3.5}\n",
    "}\n",
    "\n",
    "heuristic1 = {\n",
    "    'S': 11.5,\n",
    "    'A': 10.1,\n",
    "    'B': 5.8,\n",
    "    'C': 3.4,\n",
    "    'D': 9.2,\n",
    "    'E': 7.1,\n",
    "    'F': 3.5,\n",
    "    'G': 0  \n",
    "}\n",
    "\n",
    "def a_star(graph, heuristic, start, goal):\n",
    "    open_set = PriorityQueue()\n",
    "    open_set.put((0, start))\n",
    "    came_from = {}\n",
    "    \n",
    "    g_score = {node: float('inf') for node in heuristic}\n",
    "    g_score[start] = 0\n",
    "    f_score = {node: float('inf') for node in heuristic}\n",
    "    f_score[start] = heuristic[start]\n",
    "\n",
    "    while not open_set.empty():\n",
    "        current = open_set.get()[1]\n",
    "        \n",
    "        if current == goal:\n",
    "            path = []\n",
    "            while current in came_from:\n",
    "                path.append(current)\n",
    "                current = came_from[current]\n",
    "            path.append(start)\n",
    "            path.reverse()\n",
    "            return path, f_score[goal]\n",
    "\n",
    "        for neighbor, cost in graph.get(current, {}).items():\n",
    "            tentative_g_score = g_score[current] + cost\n",
    "            if tentative_g_score < g_score[neighbor]:\n",
    "                came_from[neighbor] = current\n",
    "                g_score[neighbor] = tentative_g_score\n",
    "                f_score[neighbor] = tentative_g_score + heuristic[neighbor]\n",
    "                open_set.put((f_score[neighbor], neighbor))\n",
    "\n",
    "    return None, float('inf')\n",
    "\n",
    "path1, cost1 = a_star(graph1, heuristic1, 'S', 'G')\n",
    "print(\"Graph 1 Path:\", path1)\n",
    "print(\"Graph 1 Total Cost:\", cost1)\n",
    "print_name_and_roll()\n"
   ]
  },
  {
   "cell_type": "markdown",
   "metadata": {},
   "source": [
    "b part"
   ]
  },
  {
   "cell_type": "code",
   "execution_count": 6,
   "metadata": {},
   "outputs": [
    {
     "name": "stdout",
     "output_type": "stream",
     "text": [
      "Graph 2 Path: ['S', 'A', 'D', 'I', 'J', 'G']\n",
      "Graph 2 Total Cost: 25\n",
      "Name: Diya Goyal\n",
      "Roll Number: 102215255\n"
     ]
    }
   ],
   "source": [
    "graph2 = {\n",
    "    'S': {'A': 4, 'B': 10, 'C': 11},\n",
    "    'A': {'D': 8, 'H': 16},\n",
    "    'B': {'D': 5, 'E': 15},\n",
    "    'C': {'F': 2, 'E': 20},\n",
    "    'D': {'I': 1, 'F': 12},\n",
    "    'E': {'G': 19},\n",
    "    'F': {'G': 13},\n",
    "    'H': {'J': 2},\n",
    "    'I': {'J': 7, 'K': 3},\n",
    "    'J': {'G': 5},\n",
    "    'K': {'G': 16}\n",
    "}\n",
    "\n",
    "heuristic2 = {\n",
    "    'S': 7,\n",
    "    'A': 8,\n",
    "    'B': 6,\n",
    "    'C': 4,\n",
    "    'D': 5,\n",
    "    'E': 3,\n",
    "    'F': 3,\n",
    "    'G': 0, \n",
    "    'H': 7,\n",
    "    'I': 4,\n",
    "    'J': 5,\n",
    "    'K': 3\n",
    "}\n",
    "\n",
    "def a_star(graph, heuristic, start, goal):\n",
    "    open_set = PriorityQueue()\n",
    "    open_set.put((0, start))\n",
    "    came_from = {}\n",
    "    \n",
    "    g_score = {node: float('inf') for node in heuristic}\n",
    "    g_score[start] = 0\n",
    "    f_score = {node: float('inf') for node in heuristic}\n",
    "    f_score[start] = heuristic[start]\n",
    "\n",
    "    while not open_set.empty():\n",
    "        current = open_set.get()[1]\n",
    "        \n",
    "        if current == goal:\n",
    "            path = []\n",
    "            while current in came_from:\n",
    "                path.append(current)\n",
    "                current = came_from[current]\n",
    "            path.append(start)\n",
    "            path.reverse()\n",
    "            return path, f_score[goal]\n",
    "\n",
    "        for neighbor, cost in graph.get(current, {}).items():\n",
    "            tentative_g_score = g_score[current] + cost\n",
    "            if tentative_g_score < g_score[neighbor]:\n",
    "                came_from[neighbor] = current\n",
    "                g_score[neighbor] = tentative_g_score\n",
    "                f_score[neighbor] = tentative_g_score + heuristic[neighbor]\n",
    "                open_set.put((f_score[neighbor], neighbor))\n",
    "\n",
    "    return None, float('inf')\n",
    "\n",
    "\n",
    "path2, cost2 = a_star(graph2, heuristic2, 'S', 'G')\n",
    "print(\"Graph 2 Path:\", path2)\n",
    "print(\"Graph 2 Total Cost:\", cost2)\n",
    "print_name_and_roll()\n",
    "\n"
   ]
  }
 ],
 "metadata": {
  "kernelspec": {
   "display_name": "Python 3",
   "language": "python",
   "name": "python3"
  },
  "language_info": {
   "codemirror_mode": {
    "name": "ipython",
    "version": 3
   },
   "file_extension": ".py",
   "mimetype": "text/x-python",
   "name": "python",
   "nbconvert_exporter": "python",
   "pygments_lexer": "ipython3",
   "version": "3.11.7"
  }
 },
 "nbformat": 4,
 "nbformat_minor": 2
}
