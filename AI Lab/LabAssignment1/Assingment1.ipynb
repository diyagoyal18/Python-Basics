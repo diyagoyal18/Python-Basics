{
 "cells": [
  {
   "cell_type": "code",
   "execution_count": 1,
   "metadata": {},
   "outputs": [
    {
     "name": "stdout",
     "output_type": "stream",
     "text": [
      "{1: 7, 2: 8, 3: 9, 4: 0}\n"
     ]
    }
   ],
   "source": [
    "##ques1\n",
    "keys = [1,2,3,4]\n",
    "values = [7,8,9,0]\n",
    "\n",
    "dictionary = dict(zip(keys, values))\n",
    "\n",
    "print(dictionary)"
   ]
  },
  {
   "cell_type": "code",
   "execution_count": 4,
   "metadata": {},
   "outputs": [
    {
     "name": "stdout",
     "output_type": "stream",
     "text": [
      "4.0 is less than 5.0\n"
     ]
    }
   ],
   "source": [
    "##ques2\n",
    "\n",
    "num1 = float(input(\"Enter the first number: \"))\n",
    "num2 = float(input(\"Enter the second number: \"))\n",
    "\n",
    "if num1 == num2:\n",
    "    print(f\"{num1} is equal to {num2}\")\n",
    "elif num1 > num2:\n",
    "    print(f\"{num1} is greater than {num2}\")\n",
    "else:\n",
    "    print(f\"{num1} is less than {num2}\")\n"
   ]
  },
  {
   "cell_type": "code",
   "execution_count": 23,
   "metadata": {},
   "outputs": [
    {
     "name": "stdout",
     "output_type": "stream",
     "text": [
      "Element: 42, Type: <class 'int'>\n",
      "Element: 3.14, Type: <class 'float'>\n",
      "Element: AI, Type: <class 'str'>\n",
      "Element: (4, 5, 6), Type: <class 'tuple'>\n",
      "Element: {'key': 'value'}, Type: <class 'dict'>\n",
      "Element: True, Type: <class 'bool'>\n",
      "Element: None, Type: <class 'NoneType'>\n",
      "Element: [1, 2, 3], Type: <class 'list'>\n",
      "Element: {8, 9, 7}, Type: <class 'set'>\n",
      "Element: b'bytes', Type: <class 'bytes'>\n"
     ]
    }
   ],
   "source": [
    "##ques3\n",
    "L = [42, 3.14, \"AI\", (4, 5, 6), {'key': 'value'},  True, None, [1, 2, 3],{7, 8, 9}, b'bytes']\n",
    "\n",
    "for element in L:\n",
    "    print(f\"Element: {element}, Type: {type(element)}\")\n",
    "\n",
    "\n"
   ]
  },
  {
   "cell_type": "code",
   "execution_count": 20,
   "metadata": {},
   "outputs": [
    {
     "name": "stdout",
     "output_type": "stream",
     "text": [
      "The number can be divided 2 times.\n"
     ]
    }
   ],
   "source": [
    "##ques4\n",
    "A = int(input(\"Enter the value of A: \"))\n",
    "B = int(input(\"Enter the value of B: \"))\n",
    "\n",
    "count = 0\n",
    "\n",
    "while A % B == 0:\n",
    "    A = A // B  \n",
    "    count += 1  \n",
    "\n",
    "if count > 0:\n",
    "    print(f\"The number can be divided {count} times.\")\n",
    "else:\n",
    "    print(\"A is not divisible by B.\")\n"
   ]
  },
  {
   "cell_type": "code",
   "execution_count": 22,
   "metadata": {},
   "outputs": [
    {
     "name": "stdout",
     "output_type": "stream",
     "text": [
      "12 is divisible by 3\n",
      "17 is not divisible by 3\n",
      "23 is not divisible by 3\n",
      "9 is divisible by 3\n",
      "15 is divisible by 3\n",
      "8 is not divisible by 3\n",
      "30 is divisible by 3\n",
      "45 is divisible by 3\n",
      "2 is not divisible by 3\n",
      "18 is divisible by 3\n",
      "27 is divisible by 3\n",
      "33 is divisible by 3\n",
      "5 is not divisible by 3\n",
      "40 is not divisible by 3\n",
      "6 is divisible by 3\n",
      "19 is not divisible by 3\n",
      "21 is divisible by 3\n",
      "24 is divisible by 3\n",
      "10 is not divisible by 3\n",
      "11 is not divisible by 3\n",
      "3 is divisible by 3\n",
      "60 is divisible by 3\n",
      "14 is not divisible by 3\n",
      "36 is divisible by 3\n",
      "42 is divisible by 3\n"
     ]
    }
   ],
   "source": [
    "##ques5\n",
    "L = [12, 17, 23, 9, 15, 8, 30, 45, 2, 18, 27, 33, 5, 40, 6, 19, 21, 24, 10, 11, 3, 60, 14, 36, 42]\n",
    "\n",
    "for num in L:\n",
    "    if num % 3 == 0:\n",
    "        print(f\"{num} is divisible by 3\")\n",
    "    else:\n",
    "        print(f\"{num} is not divisible by 3\")\n"
   ]
  },
  {
   "cell_type": "code",
   "execution_count": null,
   "metadata": {},
   "outputs": [],
   "source": [
    "#ques6\n"
   ]
  }
 ],
 "metadata": {
  "kernelspec": {
   "display_name": "Python 3",
   "language": "python",
   "name": "python3"
  },
  "language_info": {
   "codemirror_mode": {
    "name": "ipython",
    "version": 3
   },
   "file_extension": ".py",
   "mimetype": "text/x-python",
   "name": "python",
   "nbconvert_exporter": "python",
   "pygments_lexer": "ipython3",
   "version": "3.11.7"
  }
 },
 "nbformat": 4,
 "nbformat_minor": 2
}
