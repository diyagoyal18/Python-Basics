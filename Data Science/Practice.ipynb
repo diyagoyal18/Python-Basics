{
 "cells": [
  {
   "cell_type": "code",
   "execution_count": 1,
   "metadata": {},
   "outputs": [
    {
     "name": "stdout",
     "output_type": "stream",
     "text": [
      "helo\n"
     ]
    }
   ],
   "source": [
    "print(\"helo\")"
   ]
  },
  {
   "cell_type": "code",
   "execution_count": 2,
   "metadata": {},
   "outputs": [
    {
     "name": "stdout",
     "output_type": "stream",
     "text": [
      "5\n"
     ]
    }
   ],
   "source": [
    "v=5\n",
    "print(v)"
   ]
  },
  {
   "cell_type": "code",
   "execution_count": 3,
   "metadata": {},
   "outputs": [
    {
     "name": "stdout",
     "output_type": "stream",
     "text": [
      "35\n"
     ]
    }
   ],
   "source": [
    "a=23\n",
    "b=12\n",
    "print(a+b)"
   ]
  },
  {
   "cell_type": "code",
   "execution_count": 22,
   "metadata": {},
   "outputs": [
    {
     "name": "stdout",
     "output_type": "stream",
     "text": [
      "3.0\n",
      "3\n",
      "20736\n",
      "4\n",
      "12\n",
      "8\n",
      "0\n",
      "192\n",
      "-13\n",
      "1.2\n",
      "ram12\n"
     ]
    }
   ],
   "source": [
    "a=12\n",
    "b=4\n",
    "c=a/b\n",
    "d=a//b\n",
    "print(c)\n",
    "print(d)\n",
    "r=a**b\n",
    "print(r)\n",
    "print(a&b)\n",
    "print(a|b)\n",
    "print(a^b)\n",
    "print(a>>b)\n",
    "print(a<<b)\n",
    "print(~a)\n",
    "a/=10\n",
    "print(a)\n",
    "# a=(input(\"enter a string: \"))\n",
    "# b=(input(\"enter a string: \"))\n",
    "\n",
    "# print(a, \"+\", b)\n",
    "s=\"ram\"+ \"12\"\n",
    "print(s)"
   ]
  },
  {
   "cell_type": "code",
   "execution_count": 23,
   "metadata": {},
   "outputs": [
    {
     "data": {
      "text/plain": [
       "[0, 1, 2, 3, 4, 5, 6, 7, 8, 9]"
      ]
     },
     "execution_count": 23,
     "metadata": {},
     "output_type": "execute_result"
    }
   ],
   "source": [
    "list(range(10))"
   ]
  },
  {
   "cell_type": "code",
   "execution_count": 25,
   "metadata": {},
   "outputs": [
    {
     "name": "stdout",
     "output_type": "stream",
     "text": [
      "[0, 1, 2, 3, 4, 5, 6, 7, 8, 9]\n"
     ]
    }
   ],
   "source": [
    "print(list(range(0,10)))"
   ]
  },
  {
   "cell_type": "code",
   "execution_count": 28,
   "metadata": {},
   "outputs": [
    {
     "name": "stdout",
     "output_type": "stream",
     "text": [
      "1\n",
      "2\n",
      "3\n",
      "4\n",
      "5\n",
      "6\n",
      "7\n",
      "8\n",
      "9\n",
      "10\n",
      "11\n",
      "12\n",
      "13\n",
      "14\n",
      "15\n",
      "16\n",
      "17\n",
      "18\n",
      "19\n",
      "20\n",
      "21\n",
      "22\n",
      "23\n",
      "24\n",
      "25\n",
      "26\n",
      "27\n",
      "28\n",
      "29\n"
     ]
    }
   ],
   "source": [
    "for i in range(1,30):\n",
    "    print(i)"
   ]
  },
  {
   "cell_type": "code",
   "execution_count": 29,
   "metadata": {},
   "outputs": [
    {
     "name": "stdout",
     "output_type": "stream",
     "text": [
      "1\n",
      "5\n",
      "9\n",
      "13\n",
      "17\n",
      "21\n",
      "25\n",
      "29\n"
     ]
    }
   ],
   "source": [
    "for i in range(1,30,4):\n",
    "    print(i)"
   ]
  },
  {
   "cell_type": "code",
   "execution_count": 32,
   "metadata": {},
   "outputs": [
    {
     "name": "stdout",
     "output_type": "stream",
     "text": [
      "0\n",
      "-4\n",
      "-8\n",
      "-12\n",
      "-16\n"
     ]
    }
   ],
   "source": [
    "for i in range(0,-20,-4):\n",
    "    print(i)"
   ]
  },
  {
   "cell_type": "code",
   "execution_count": 34,
   "metadata": {},
   "outputs": [
    {
     "name": "stdout",
     "output_type": "stream",
     "text": [
      "Sum is -->  55\n"
     ]
    }
   ],
   "source": [
    "print (\"Sum is --> \", sum(range(1,11)))\n"
   ]
  },
  {
   "cell_type": "code",
   "execution_count": 35,
   "metadata": {},
   "outputs": [
    {
     "name": "stdout",
     "output_type": "stream",
     "text": [
      "4\n",
      "8\n",
      "12\n",
      "16\n",
      "20\n",
      "24\n",
      "28\n",
      "32\n",
      "36\n",
      "40\n"
     ]
    }
   ],
   "source": [
    "\n",
    "n= int(input(\"enter the value of n: \"))\n",
    "for i in range(1,11):\n",
    "    print(n*i)"
   ]
  },
  {
   "cell_type": "code",
   "execution_count": 37,
   "metadata": {},
   "outputs": [
    {
     "name": "stdout",
     "output_type": "stream",
     "text": [
      "4950\n"
     ]
    }
   ],
   "source": [
    "n=int(input(\"enter the value of n: \"))\n",
    "print(sum(range(1,n)))"
   ]
  },
  {
   "cell_type": "markdown",
   "metadata": {},
   "source": [
    "prime number"
   ]
  },
  {
   "cell_type": "code",
   "execution_count": 38,
   "metadata": {},
   "outputs": [
    {
     "name": "stdout",
     "output_type": "stream",
     "text": [
      "not prime\n"
     ]
    }
   ],
   "source": [
    "n=int(input(\"enter a number:\"))\n",
    "f=0\n",
    "for i in range(2, int(1+n/2)):\n",
    "    if n%i==0:\n",
    "        f=1\n",
    "        break\n",
    "\n",
    "if f==0:\n",
    "    print(\"prime\")\n",
    "\n",
    "else:\n",
    "    print(\"not prime\")"
   ]
  },
  {
   "cell_type": "markdown",
   "metadata": {},
   "source": [
    "fibonacci"
   ]
  },
  {
   "cell_type": "code",
   "execution_count": 39,
   "metadata": {},
   "outputs": [
    {
     "name": "stdout",
     "output_type": "stream",
     "text": [
      "0\n",
      "1\n",
      "1\n",
      "2\n",
      "3\n",
      "5\n",
      "8\n",
      "13\n",
      "21\n",
      "34\n",
      "55\n",
      "89\n"
     ]
    }
   ],
   "source": [
    "n=10\n",
    "a=0\n",
    "b=1\n",
    "print(a)\n",
    "print(b)\n",
    "for i in range(n):\n",
    "    c=a+b\n",
    "    print(c)\n",
    "    a=b\n",
    "    b=c"
   ]
  },
  {
   "cell_type": "markdown",
   "metadata": {},
   "source": [
    "factorial"
   ]
  },
  {
   "cell_type": "code",
   "execution_count": 42,
   "metadata": {},
   "outputs": [
    {
     "name": "stdout",
     "output_type": "stream",
     "text": [
      "1\n",
      "2\n",
      "6\n",
      "24\n"
     ]
    }
   ],
   "source": [
    "n=4\n",
    "a=1\n",
    "for i in range(1,n+1):\n",
    "    a=a*i\n",
    "    print(a)"
   ]
  },
  {
   "cell_type": "markdown",
   "metadata": {},
   "source": [
    "add 2 numbers in a function"
   ]
  },
  {
   "cell_type": "code",
   "execution_count": 44,
   "metadata": {},
   "outputs": [
    {
     "name": "stdout",
     "output_type": "stream",
     "text": [
      "3\n",
      "9\n"
     ]
    }
   ],
   "source": [
    "def add(a,b):\n",
    "    c=a+b\n",
    "    return c\n",
    "\n",
    "print(add(1,2))\n",
    "print(add(1,8))"
   ]
  },
  {
   "cell_type": "code",
   "execution_count": 45,
   "metadata": {},
   "outputs": [
    {
     "name": "stdout",
     "output_type": "stream",
     "text": [
      "Add(10,20)   --> 120\n",
      "Add(20,50,10)--> 80\n"
     ]
    }
   ],
   "source": [
    "#------------------------------------------------------------------------\n",
    "# 5.4: Default Parameter\n",
    "#------------------------------------------------------------------------\n",
    "def Add(a, b, d = 90):\n",
    "    c = a + b + d\n",
    "    return c\n",
    "\n",
    "print (\"Add(10,20)   -->\", Add(10,20))\n",
    "print (\"Add(20,50,10)-->\", Add(20,50,10))\n"
   ]
  },
  {
   "cell_type": "code",
   "execution_count": 48,
   "metadata": {},
   "outputs": [
    {
     "name": "stdout",
     "output_type": "stream",
     "text": [
      "var1 --> Hello \"Python\"\n",
      "var2 --> Hello 'Python'\n",
      "var3 --> Hello\n",
      "var4 --> hi\n"
     ]
    }
   ],
   "source": [
    "#------------------------------------------------------------------------\n",
    "# 7.2: Difference between single quote and double quote\n",
    "#------------------------------------------------------------------------\n",
    "var1 = 'Hello \"Python\"'\n",
    "var2 = \"Hello 'Python'\"\n",
    "var3= 'Hello'\n",
    "var4= \"hi\"\n",
    "print (\"var1 -->\", var1)\n",
    "print (\"var2 -->\",var2)\n",
    "print (\"var3 -->\",var3)\n",
    "print (\"var4 -->\",var4)\n"
   ]
  },
  {
   "cell_type": "markdown",
   "metadata": {},
   "source": [
    "if we want to use ' in the print statement then use backslash ' for no error"
   ]
  },
  {
   "cell_type": "code",
   "execution_count": 60,
   "metadata": {},
   "outputs": [
    {
     "name": "stdout",
     "output_type": "stream",
     "text": [
      "3\n",
      "12345678765\n",
      "1234\n",
      "123456787654321\n"
     ]
    }
   ],
   "source": [
    "a=\"123456787654321\"\n",
    "print(a[2])\n",
    "print(a[0:-4])\n",
    "print(a[0:4:1])\n",
    "print(a[::1])"
   ]
  },
  {
   "cell_type": "markdown",
   "metadata": {},
   "source": [
    "string length upper lower"
   ]
  },
  {
   "cell_type": "code",
   "execution_count": 69,
   "metadata": {},
   "outputs": [
    {
     "name": "stdout",
     "output_type": "stream",
     "text": [
      "i am a full stack web developer\n",
      "I AM A FULL STACK WEB DEVELOPER\n",
      "31\n",
      "['I', 'am', 'a', 'full', 'stack', 'web', 'developer']\n",
      "3\n",
      "repoleved bew kcats lluf a ma I\n"
     ]
    }
   ],
   "source": [
    "a=\"I am a full stack web developer\"\n",
    "print(a.lower())\n",
    "print(a.upper())\n",
    "print(len(a))\n",
    "print(a.split())\n",
    "print(a.count('l'))\n",
    "# reverse a string\n",
    "print(a[::-1])"
   ]
  },
  {
   "cell_type": "code",
   "execution_count": 65,
   "metadata": {},
   "outputs": [
    {
     "data": {
      "text/plain": [
       "False"
      ]
     },
     "execution_count": 65,
     "metadata": {},
     "output_type": "execute_result"
    }
   ],
   "source": [
    "a=9\n",
    "b=3\n",
    "a is b"
   ]
  },
  {
   "cell_type": "code",
   "execution_count": 71,
   "metadata": {},
   "outputs": [
    {
     "name": "stdout",
     "output_type": "stream",
     "text": [
      "s1 --> False\n",
      "s2 --> True\n",
      "s3 --> True\n",
      "s4 --> False\n"
     ]
    }
   ],
   "source": [
    "##palindrome\n",
    "s1 = \"Indian Army\"\n",
    "s2 = \"malayalam\"\n",
    "s3 = \"madam\"\n",
    "s4 = \"teacher\"\n",
    "print (\"s1 -->\", s1 == s1[::-1])\n",
    "print (\"s2 -->\", s2 == s2[::-1])\n",
    "print (\"s3 -->\", s3 == s3[::-1])\n",
    "print (\"s4 -->\", s4 == s4[::-1])"
   ]
  }
 ],
 "metadata": {
  "kernelspec": {
   "display_name": "Python 3",
   "language": "python",
   "name": "python3"
  },
  "language_info": {
   "codemirror_mode": {
    "name": "ipython",
    "version": 3
   },
   "file_extension": ".py",
   "mimetype": "text/x-python",
   "name": "python",
   "nbconvert_exporter": "python",
   "pygments_lexer": "ipython3",
   "version": "3.11.7"
  }
 },
 "nbformat": 4,
 "nbformat_minor": 2
}
