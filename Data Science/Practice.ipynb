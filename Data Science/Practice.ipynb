{
 "cells": [
  {
   "cell_type": "code",
   "execution_count": 1,
   "metadata": {},
   "outputs": [
    {
     "name": "stdout",
     "output_type": "stream",
     "text": [
      "helo\n"
     ]
    }
   ],
   "source": [
    "print(\"helo\")"
   ]
  },
  {
   "cell_type": "code",
   "execution_count": 1,
   "metadata": {},
   "outputs": [
    {
     "name": "stdout",
     "output_type": "stream",
     "text": [
      "5\n"
     ]
    }
   ],
   "source": [
    "v=5\n",
    "print(v)"
   ]
  },
  {
   "cell_type": "code",
   "execution_count": 3,
   "metadata": {},
   "outputs": [
    {
     "name": "stdout",
     "output_type": "stream",
     "text": [
      "35\n"
     ]
    }
   ],
   "source": [
    "a=23\n",
    "b=12\n",
    "print(a+b)"
   ]
  },
  {
   "cell_type": "code",
   "execution_count": 22,
   "metadata": {},
   "outputs": [
    {
     "name": "stdout",
     "output_type": "stream",
     "text": [
      "3.0\n",
      "3\n",
      "20736\n",
      "4\n",
      "12\n",
      "8\n",
      "0\n",
      "192\n",
      "-13\n",
      "1.2\n",
      "ram12\n"
     ]
    }
   ],
   "source": [
    "a=12\n",
    "b=4\n",
    "c=a/b\n",
    "d=a//b\n",
    "print(c)\n",
    "print(d)\n",
    "r=a**b\n",
    "print(r)\n",
    "print(a&b)\n",
    "print(a|b)\n",
    "print(a^b)\n",
    "print(a>>b)\n",
    "print(a<<b)\n",
    "print(~a)\n",
    "a/=10\n",
    "print(a)\n",
    "# a=(input(\"enter a string: \"))\n",
    "# b=(input(\"enter a string: \"))\n",
    "\n",
    "# print(a, \"+\", b)\n",
    "s=\"ram\"+ \"12\"\n",
    "print(s)"
   ]
  },
  {
   "cell_type": "code",
   "execution_count": 23,
   "metadata": {},
   "outputs": [
    {
     "data": {
      "text/plain": [
       "[0, 1, 2, 3, 4, 5, 6, 7, 8, 9]"
      ]
     },
     "execution_count": 23,
     "metadata": {},
     "output_type": "execute_result"
    }
   ],
   "source": [
    "list(range(10))"
   ]
  },
  {
   "cell_type": "code",
   "execution_count": 25,
   "metadata": {},
   "outputs": [
    {
     "name": "stdout",
     "output_type": "stream",
     "text": [
      "[0, 1, 2, 3, 4, 5, 6, 7, 8, 9]\n"
     ]
    }
   ],
   "source": [
    "print(list(range(0,10)))"
   ]
  },
  {
   "cell_type": "code",
   "execution_count": 28,
   "metadata": {},
   "outputs": [
    {
     "name": "stdout",
     "output_type": "stream",
     "text": [
      "1\n",
      "2\n",
      "3\n",
      "4\n",
      "5\n",
      "6\n",
      "7\n",
      "8\n",
      "9\n",
      "10\n",
      "11\n",
      "12\n",
      "13\n",
      "14\n",
      "15\n",
      "16\n",
      "17\n",
      "18\n",
      "19\n",
      "20\n",
      "21\n",
      "22\n",
      "23\n",
      "24\n",
      "25\n",
      "26\n",
      "27\n",
      "28\n",
      "29\n"
     ]
    }
   ],
   "source": [
    "for i in range(1,30):\n",
    "    print(i)"
   ]
  },
  {
   "cell_type": "code",
   "execution_count": 29,
   "metadata": {},
   "outputs": [
    {
     "name": "stdout",
     "output_type": "stream",
     "text": [
      "1\n",
      "5\n",
      "9\n",
      "13\n",
      "17\n",
      "21\n",
      "25\n",
      "29\n"
     ]
    }
   ],
   "source": [
    "for i in range(1,30,4):\n",
    "    print(i)"
   ]
  },
  {
   "cell_type": "code",
   "execution_count": 32,
   "metadata": {},
   "outputs": [
    {
     "name": "stdout",
     "output_type": "stream",
     "text": [
      "0\n",
      "-4\n",
      "-8\n",
      "-12\n",
      "-16\n"
     ]
    }
   ],
   "source": [
    "for i in range(0,-20,-4):\n",
    "    print(i)"
   ]
  },
  {
   "cell_type": "code",
   "execution_count": 34,
   "metadata": {},
   "outputs": [
    {
     "name": "stdout",
     "output_type": "stream",
     "text": [
      "Sum is -->  55\n"
     ]
    }
   ],
   "source": [
    "print (\"Sum is --> \", sum(range(1,11)))\n"
   ]
  },
  {
   "cell_type": "code",
   "execution_count": 35,
   "metadata": {},
   "outputs": [
    {
     "name": "stdout",
     "output_type": "stream",
     "text": [
      "4\n",
      "8\n",
      "12\n",
      "16\n",
      "20\n",
      "24\n",
      "28\n",
      "32\n",
      "36\n",
      "40\n"
     ]
    }
   ],
   "source": [
    "\n",
    "n= int(input(\"enter the value of n: \"))\n",
    "for i in range(1,11):\n",
    "    print(n*i)"
   ]
  },
  {
   "cell_type": "code",
   "execution_count": 37,
   "metadata": {},
   "outputs": [
    {
     "name": "stdout",
     "output_type": "stream",
     "text": [
      "4950\n"
     ]
    }
   ],
   "source": [
    "n=int(input(\"enter the value of n: \"))\n",
    "print(sum(range(1,n)))"
   ]
  },
  {
   "cell_type": "markdown",
   "metadata": {},
   "source": [
    "prime number"
   ]
  },
  {
   "cell_type": "code",
   "execution_count": 38,
   "metadata": {},
   "outputs": [
    {
     "name": "stdout",
     "output_type": "stream",
     "text": [
      "not prime\n"
     ]
    }
   ],
   "source": [
    "n=int(input(\"enter a number:\"))\n",
    "f=0\n",
    "for i in range(2, int(1+n/2)):\n",
    "    if n%i==0:\n",
    "        f=1\n",
    "        break\n",
    "\n",
    "if f==0:\n",
    "    print(\"prime\")\n",
    "\n",
    "else:\n",
    "    print(\"not prime\")"
   ]
  },
  {
   "cell_type": "markdown",
   "metadata": {},
   "source": [
    "fibonacci"
   ]
  },
  {
   "cell_type": "code",
   "execution_count": 39,
   "metadata": {},
   "outputs": [
    {
     "name": "stdout",
     "output_type": "stream",
     "text": [
      "0\n",
      "1\n",
      "1\n",
      "2\n",
      "3\n",
      "5\n",
      "8\n",
      "13\n",
      "21\n",
      "34\n",
      "55\n",
      "89\n"
     ]
    }
   ],
   "source": [
    "n=10\n",
    "a=0\n",
    "b=1\n",
    "print(a)\n",
    "print(b)\n",
    "for i in range(n):\n",
    "    c=a+b\n",
    "    print(c)\n",
    "    a=b\n",
    "    b=c"
   ]
  },
  {
   "cell_type": "markdown",
   "metadata": {},
   "source": [
    "factorial"
   ]
  },
  {
   "cell_type": "code",
   "execution_count": 42,
   "metadata": {},
   "outputs": [
    {
     "name": "stdout",
     "output_type": "stream",
     "text": [
      "1\n",
      "2\n",
      "6\n",
      "24\n"
     ]
    }
   ],
   "source": [
    "n=4\n",
    "a=1\n",
    "for i in range(1,n+1):\n",
    "    a=a*i\n",
    "    print(a)"
   ]
  },
  {
   "cell_type": "markdown",
   "metadata": {},
   "source": [
    "add 2 numbers in a function"
   ]
  },
  {
   "cell_type": "code",
   "execution_count": 44,
   "metadata": {},
   "outputs": [
    {
     "name": "stdout",
     "output_type": "stream",
     "text": [
      "3\n",
      "9\n"
     ]
    }
   ],
   "source": [
    "def add(a,b):\n",
    "    c=a+b\n",
    "    return c\n",
    "\n",
    "print(add(1,2))\n",
    "print(add(1,8))"
   ]
  },
  {
   "cell_type": "code",
   "execution_count": 45,
   "metadata": {},
   "outputs": [
    {
     "name": "stdout",
     "output_type": "stream",
     "text": [
      "Add(10,20)   --> 120\n",
      "Add(20,50,10)--> 80\n"
     ]
    }
   ],
   "source": [
    "#------------------------------------------------------------------------\n",
    "# 5.4: Default Parameter\n",
    "#------------------------------------------------------------------------\n",
    "def Add(a, b, d = 90):\n",
    "    c = a + b + d\n",
    "    return c\n",
    "\n",
    "print (\"Add(10,20)   -->\", Add(10,20))\n",
    "print (\"Add(20,50,10)-->\", Add(20,50,10))\n"
   ]
  },
  {
   "cell_type": "code",
   "execution_count": 48,
   "metadata": {},
   "outputs": [
    {
     "name": "stdout",
     "output_type": "stream",
     "text": [
      "var1 --> Hello \"Python\"\n",
      "var2 --> Hello 'Python'\n",
      "var3 --> Hello\n",
      "var4 --> hi\n"
     ]
    }
   ],
   "source": [
    "#------------------------------------------------------------------------\n",
    "# 7.2: Difference between single quote and double quote\n",
    "#------------------------------------------------------------------------\n",
    "var1 = 'Hello \"Python\"'\n",
    "var2 = \"Hello 'Python'\"\n",
    "var3= 'Hello'\n",
    "var4= \"hi\"\n",
    "print (\"var1 -->\", var1)\n",
    "print (\"var2 -->\",var2)\n",
    "print (\"var3 -->\",var3)\n",
    "print (\"var4 -->\",var4)\n"
   ]
  },
  {
   "cell_type": "markdown",
   "metadata": {},
   "source": [
    "if we want to use ' in the print statement then use backslash ' for no error"
   ]
  },
  {
   "cell_type": "code",
   "execution_count": 60,
   "metadata": {},
   "outputs": [
    {
     "name": "stdout",
     "output_type": "stream",
     "text": [
      "3\n",
      "12345678765\n",
      "1234\n",
      "123456787654321\n"
     ]
    }
   ],
   "source": [
    "a=\"123456787654321\"\n",
    "print(a[2])\n",
    "print(a[0:-4])\n",
    "print(a[0:4:1])\n",
    "print(a[::1])"
   ]
  },
  {
   "cell_type": "markdown",
   "metadata": {},
   "source": [
    "string length upper lower"
   ]
  },
  {
   "cell_type": "code",
   "execution_count": 69,
   "metadata": {},
   "outputs": [
    {
     "name": "stdout",
     "output_type": "stream",
     "text": [
      "i am a full stack web developer\n",
      "I AM A FULL STACK WEB DEVELOPER\n",
      "31\n",
      "['I', 'am', 'a', 'full', 'stack', 'web', 'developer']\n",
      "3\n",
      "repoleved bew kcats lluf a ma I\n"
     ]
    }
   ],
   "source": [
    "a=\"I am a full stack web developer\"\n",
    "print(a.lower())\n",
    "print(a.upper())\n",
    "print(len(a))\n",
    "print(a.split())\n",
    "print(a.count('l'))\n",
    "# reverse a string\n",
    "print(a[::-1])"
   ]
  },
  {
   "cell_type": "code",
   "execution_count": 65,
   "metadata": {},
   "outputs": [
    {
     "data": {
      "text/plain": [
       "False"
      ]
     },
     "execution_count": 65,
     "metadata": {},
     "output_type": "execute_result"
    }
   ],
   "source": [
    "a=9\n",
    "b=3\n",
    "a is b"
   ]
  },
  {
   "cell_type": "code",
   "execution_count": 71,
   "metadata": {},
   "outputs": [
    {
     "name": "stdout",
     "output_type": "stream",
     "text": [
      "s1 --> False\n",
      "s2 --> True\n",
      "s3 --> True\n",
      "s4 --> False\n"
     ]
    }
   ],
   "source": [
    "##palindrome\n",
    "s1 = \"Indian Army\"\n",
    "s2 = \"malayalam\"\n",
    "s3 = \"madam\"\n",
    "s4 = \"teacher\"\n",
    "print (\"s1 -->\", s1 == s1[::-1])\n",
    "print (\"s2 -->\", s2 == s2[::-1])\n",
    "print (\"s3 -->\", s3 == s3[::-1])\n",
    "print (\"s4 -->\", s4 == s4[::-1])"
   ]
  },
  {
   "cell_type": "markdown",
   "metadata": {},
   "source": [
    "Lists"
   ]
  },
  {
   "cell_type": "code",
   "execution_count": 73,
   "metadata": {},
   "outputs": [
    {
     "name": "stdout",
     "output_type": "stream",
     "text": [
      "3\n",
      "<class 'list'>\n"
     ]
    }
   ],
   "source": [
    "l= [1,\"dia\", 042.2]\n",
    "print(len(l))\n",
    "print(type(l))"
   ]
  },
  {
   "cell_type": "code",
   "execution_count": 74,
   "metadata": {},
   "outputs": [
    {
     "name": "stdout",
     "output_type": "stream",
     "text": [
      "1\n",
      "dia\n",
      "42.2\n"
     ]
    }
   ],
   "source": [
    "l= [1,\"dia\", 042.2]\n",
    "i=0\n",
    "while i< len(l):\n",
    "    print(l[i])\n",
    "    i=i+1"
   ]
  },
  {
   "cell_type": "code",
   "execution_count": 100,
   "metadata": {},
   "outputs": [
    {
     "name": "stdout",
     "output_type": "stream",
     "text": [
      "[3, 9, 5, 2]\n",
      "[3, 6, 9, 12, 5, 3, 2, 0]\n",
      "[3, 6, 9, 32, 12, 5, 3, 2, 0]\n",
      "[3, 6, 9, 32, 12, 5, 3, 2, 0, 'd', 'i', 'a', 'dia', 'Rahul', 'Thapar', 100, 200]\n",
      "[3, 6, 9, 12, 2, 0, 'd', 'i', 'a', 'dia', 'Rahul', 'Thapar', 100, 200]\n",
      "5.714285714285714\n",
      "2\n",
      "[2, 3, 3, 5, 6, 9, 12]\n",
      "[2, 3, 3, 5, 6, 9, 12]\n",
      "[2, 3, 3, 5, 6, 9, 12, 2, 3, 3, 5, 6, 9, 12]\n"
     ]
    }
   ],
   "source": [
    "L = [3, 6, 9, 12, 5, 3, 2]\n",
    "L1 = [\"Rahul\", \"Thapar\", 100, 200]\n",
    "print(L[::2])\n",
    "L.append(0)\n",
    "print(L)\n",
    "L.insert(3,32)\n",
    "print(L)\n",
    "L.extend(\"dia\")\n",
    "L.extend([\"dia\"])\n",
    "L.extend(L1)\n",
    "print(L)\n",
    "del L[3]\n",
    "L.remove(5)\n",
    "L.pop(4)\n",
    "del(L1)\n",
    "print(L)\n",
    "L = [3, 6, 9, 12, 5, 3, 2]\n",
    "\n",
    "print(sum(L)/len(L))\n",
    "print(min(L))\n",
    "L.sort()\n",
    "print(L)\n",
    "sorted(L)\n",
    "print(L)\n",
    "print(L+L)"
   ]
  },
  {
   "cell_type": "code",
   "execution_count": 101,
   "metadata": {},
   "outputs": [
    {
     "name": "stdout",
     "output_type": "stream",
     "text": [
      "[39, 80, 47, 64, 23, 69, 84, 52, 32, 35, 69, 44, 52, 84, 14, 4, 34, 6, 96, 82, 98, 2, 3, 15, 8, 55, 22, 22, 67, 68, 64, 37, 10, 26, 28, 37, 17, 79, 13, 36, 22, 2, 46, 41, 52, 73, 44, 47, 57, 27, 57, 93, 71, 82, 44, 75, 45, 95, 64, 23, 18, 25, 98, 22, 20, 86, 60, 57, 1, 52, 45, 31, 93, 92, 34, 90, 5, 42, 91, 79, 19, 95, 10, 49, 75, 97, 100, 74, 66, 54, 22, 43, 6, 87, 26, 16, 39, 20, 3, 37, 45, 9, 99, 91, 49, 40, 57, 85, 28, 51]\n"
     ]
    }
   ],
   "source": [
    "import random as r\n",
    "n=110\n",
    "L=[]\n",
    "for i in range(n):\n",
    "    L.append(r.randint(1,100))\n",
    "print(L)\n"
   ]
  },
  {
   "cell_type": "code",
   "execution_count": 102,
   "metadata": {},
   "outputs": [
    {
     "name": "stdout",
     "output_type": "stream",
     "text": [
      "[5, 18, 5, 70, 39, 59, 6, 49, 92, 75, 20, 67]\n"
     ]
    }
   ],
   "source": [
    "n=12\n",
    "L=[]\n",
    "L=[ r.randint(1,100) for i in range(n)]\n",
    "print(L)"
   ]
  },
  {
   "cell_type": "code",
   "execution_count": 103,
   "metadata": {},
   "outputs": [
    {
     "name": "stdout",
     "output_type": "stream",
     "text": [
      "['SR', 'GC', 'kt', 'dA', 'PD', 'Nx', 'cL', 'mR', 'nh', 'JV', 'Oz', 'yj']\n"
     ]
    }
   ],
   "source": [
    "import string as s\n",
    "n=12\n",
    "m=2\n",
    "L=[]\n",
    "\n",
    "for i in range(n):\n",
    "    L.append(\"\".join(r.sample(s.ascii_letters,m)))\n",
    "print(L)"
   ]
  },
  {
   "cell_type": "code",
   "execution_count": 110,
   "metadata": {},
   "outputs": [
    {
     "name": "stdout",
     "output_type": "stream",
     "text": [
      "['kRVjmPHOpguf', 'oEnljFUtQImW', 'hxGVveDrSnEs', 'UAilveXVfEkn', 'ODFMqAvNCJSa', 'zDsQgGWejFcq', 'HnpuDMwqAVmN', 'vHEnJkezpxFB', 'jWtFVJuCLexa', 'zeKRYgBIbMZx', 'iklvFGmZPMdI', 'JARmxWXbjZvd', 'qEDKXxAHNYzr', 'sgMCuSnQKWhO', 'NlzpesDGjXcu', 'YEFmJwhtVcGR', 'ohQpNcPtVrzq', 'RtDqfdbIHMCS', 'JoSEIrkUHRcx', 'pHhiPURXbEgJ', 'IkhDHvdGUuNn', 'mGISFPBOtiXs', 'TLXokDPwOnga']\n",
      "['jkdBLQmWw', 'VeBibYmA', 'oQfzFK', 'DbyQtiHBcO', 'shqjB', 'BnRUdrVvAp', 'pxhcYze', 'eozJg', 'MqCvDaduPy', 'QSnzZWA', 'QvNnOXr', 'hoFEfZKTp']\n",
      "False\n",
      "['kRVjmPHOpguf', 'oEnljFUtQImW', 'hxGVveDrSnEs', 'UAilveXVfEkn', 'ODFMqAvNCJSa', 'zDsQgGWejFcq', 'HnpuDMwqAVmN', 'vHEnJkezpxFB', 'jWtFVJuCLexa', 'zeKRYgBIbMZx', 'iklvFGmZPMdI', 'JARmxWXbjZvd', 'qEDKXxAHNYzr', 'sgMCuSnQKWhO', 'NlzpesDGjXcu', 'YEFmJwhtVcGR', 'ohQpNcPtVrzq', 'RtDqfdbIHMCS', 'JoSEIrkUHRcx', 'pHhiPURXbEgJ', 'IkhDHvdGUuNn', 'mGISFPBOtiXs', 'TLXokDPwOnga']\n"
     ]
    }
   ],
   "source": [
    "L=[\"\".join(r.sample(s.ascii_letters,12)) for i in range(23)]\n",
    "n = [ \"\".join(r.sample(s.ascii_letters, r.randint(5,10))) for i in range(12)]\n",
    "import copy\n",
    "print(L)\n",
    "print(n)\n",
    "print(12 in L)\n",
    "L1 = copy.copy(L)                       # Pointing to the same memory location as L\n",
    "print(L1)"
   ]
  },
  {
   "cell_type": "markdown",
   "metadata": {},
   "source": [
    "Tuple"
   ]
  },
  {
   "cell_type": "code",
   "execution_count": 111,
   "metadata": {},
   "outputs": [
    {
     "name": "stdout",
     "output_type": "stream",
     "text": [
      "4\n",
      "<class 'tuple'>\n"
     ]
    }
   ],
   "source": [
    "T = (\"Pratham\", 'Sharma', 3.14, 3)\n",
    "print(len(T))\n",
    "print(type(T))"
   ]
  },
  {
   "cell_type": "code",
   "execution_count": 113,
   "metadata": {},
   "outputs": [
    {
     "name": "stdout",
     "output_type": "stream",
     "text": [
      "2\n",
      "5\n"
     ]
    }
   ],
   "source": [
    "T=(\"Diyaa\")\n",
    "P=(\"diya\",12)\n",
    "print(len(P))\n",
    "print(len(T))"
   ]
  },
  {
   "cell_type": "code",
   "execution_count": 114,
   "metadata": {},
   "outputs": [
    {
     "name": "stdout",
     "output_type": "stream",
     "text": [
      "d\n",
      "i\n",
      "a\n",
      "a\n",
      "a\n",
      "a\n"
     ]
    }
   ],
   "source": [
    "T=(\"diaaaa\")\n",
    "for s in T:\n",
    "    print(s)"
   ]
  },
  {
   "cell_type": "code",
   "execution_count": 116,
   "metadata": {},
   "outputs": [
    {
     "name": "stdout",
     "output_type": "stream",
     "text": [
      "c\n",
      "a\n"
     ]
    }
   ],
   "source": [
    "t=('a','b','c')\n",
    "print(max(t))\n",
    "print(min(t))"
   ]
  },
  {
   "cell_type": "code",
   "execution_count": 118,
   "metadata": {},
   "outputs": [
    {
     "name": "stdout",
     "output_type": "stream",
     "text": [
      "(2,)\n",
      "(1, 54)\n",
      "(67,)\n",
      "(1, 2, 3, 45, 67, 54)\n",
      "(45, 67, 54, 2)\n"
     ]
    }
   ],
   "source": [
    "T=(1,2,3,45,67,54,2)\n",
    "print(T[1:2])\n",
    "print(T[::5])\n",
    "print(T[-3:-2])\n",
    "print(T[:-1])\n",
    "print(T[3:])"
   ]
  },
  {
   "cell_type": "code",
   "execution_count": 122,
   "metadata": {},
   "outputs": [
    {
     "name": "stdout",
     "output_type": "stream",
     "text": [
      "(12, 34, 2, 'dia', 21, 12, 342234)\n"
     ]
    }
   ],
   "source": [
    "T=(12,34,2,4,21,12)\n",
    "T1=list(T)\n",
    "T1.append(342234)\n",
    "T1.insert(4,\"dia\")\n",
    "del T1[3]\n",
    "T=tuple(T1)\n",
    "print(T)"
   ]
  },
  {
   "cell_type": "code",
   "execution_count": 123,
   "metadata": {},
   "outputs": [
    {
     "name": "stdout",
     "output_type": "stream",
     "text": [
      "85\n",
      "14.166666666666666\n",
      "14\n"
     ]
    }
   ],
   "source": [
    "T=(12,34,2,4,21,12)\n",
    "print(sum(T))\n",
    "print(sum(T)/len(T))\n",
    "print(sum(T)//len(T))"
   ]
  },
  {
   "cell_type": "code",
   "execution_count": 124,
   "metadata": {},
   "outputs": [
    {
     "name": "stdout",
     "output_type": "stream",
     "text": [
      "(98, 69, 14, 66, 50, 12, 38, 72, 53, 42, 97, 78)\n"
     ]
    }
   ],
   "source": [
    "n=12\n",
    "T=tuple([r.randint(1,100) for i in range(n)])\n",
    "print(T)"
   ]
  },
  {
   "cell_type": "code",
   "execution_count": 129,
   "metadata": {},
   "outputs": [
    {
     "name": "stdout",
     "output_type": "stream",
     "text": [
      "('KvpXgbmD', 'CBKqs', 'EgVOJraMv', 'dyOYzpUram', 'ThziX', 'DvESwTfn', 'yqvSpzW', 'wqznCOd', 'NcerVuAUPW', 'UlXYNCZO', 'EnyzLrSXRB', 'nqdwv', 'zmquO', 'btzfSLYPKZ', 'qXPEFscd', 'jrBhnICR', 'kiPXfoDJQ', 'QomxRbjtIr', 'fvQbXVlO', 'qUXjVFhg', 'FURZKe', 'CNIUoE', 'IHFekt', 'AdSVLI', 'larjCoGS', 'yWXCxmk', 'aZOsbHwUlL', 'UDSzp', 'KahYPT', 'sfUTQkV', 'GZDnqAJB', 'IqsZcfnGXp', 'SmTaWGK', 'vfFMpkJZe', 'tkgsVQfd', 'qYQIPMDLdr', 'fayxiJ', 'qwMLfQ', 'edIiQzBUjJ', 'xpaineyC', 'fyFdBD', 'FGRejV', 'wkrxjI', 'jTLxp', 'KIOEV', 'JXzqS', 'AhMbClL', 'kboBDHEe', 'DTVpW', 'xkVsgoJB', 'frHWbKBQ', 'NpwRblGs', 'QSGzku', 'PugGQ', 'cfkTX', 'kuJahGS', 'eYqZunF', 'kUKzSadIL', 'qePmFrh', 'fyvNwFHsh', 'sbyXHpWaug', 'jANfoFX', 'PEQfObY', 'hIJce', 'LcCIlBo', 'tdLYFDs', 'VUTkBa', 'FBgyRv', 'FkuKEOY', 'OMRcYufxB', 'aGbXSu', 'RyOcpLGwdA', 'MWVhn', 'sNVnjaQE', 'ZySPb', 'TOaSr', 'OprhKR', 'kbdQR', 'mdSMEx', 'PthZUmJdAY', 'ATKCd', 'MypfKtUl', 'xwjqlTVM', 'UIfRG', 'vwpHEjD', 'cTVFzWnZ', 'HKTDX', 'LujRE', 'xQBYNTzA', 'wcZLNFR', 'jsMLQvEptD', 'abule', 'vXqiDNo', 'RiDjJx', 'jUNLXpCvEx', 'FdtGBcDz', 'XETjkoUeuW', 'CbAgykRX', 'OGcMe', 'lHEQphaqn', 'zgKReMYdt', 'mHxYu', 'zZWrGnHT', 'DHmwcoYusV', 'VqQLCO', 'pSOYyX', 'rjyWKtg', 'KyTuZVv', 'RFqhWCb', 'ebvgE', 'iuXnP', 'QnTCluso', 'lnzXJYubwa', 'NdkvqhDJrF', 'hYpWtmLcjC', 'NkfWJCjHn', 'eTyNkm', 'SDKzwk', 'BaFpR', 'sNuSok', 'XzuneFwD', 'EiSwCsYzyf', 'jkptaq', 'VEafYnPeR', 'czJVgotQ', 'TQFJy', 'FjNwqfsAW', 'ZCOIzrt', 'cHyXTKru', 'YvMUfQV', 'DixEaSWIXC', 'wkKmXvE', 'XmVZbBF', 'LHWXc')\n"
     ]
    }
   ],
   "source": [
    "import string as s\n",
    "n=134\n",
    "T=tuple([\"\".join(r.sample(s.ascii_letters,r.randint(5,10))) for i in range(n)])\n",
    "print(T)"
   ]
  },
  {
   "cell_type": "code",
   "execution_count": 130,
   "metadata": {},
   "outputs": [
    {
     "name": "stdout",
     "output_type": "stream",
     "text": [
      "True\n"
     ]
    }
   ],
   "source": [
    "T=(1,4,6,3,6,4,36,5,4)\n",
    "print(4 in T)"
   ]
  },
  {
   "cell_type": "code",
   "execution_count": 131,
   "metadata": {},
   "outputs": [
    {
     "name": "stdout",
     "output_type": "stream",
     "text": [
      "(3, 5, 2, 1, 2, 3, 4, 5)\n"
     ]
    }
   ],
   "source": [
    "T1=(3,5,2)\n",
    "T2=(1,2,3,4,5)\n",
    "print(T1+T2)"
   ]
  },
  {
   "cell_type": "code",
   "execution_count": 133,
   "metadata": {},
   "outputs": [
    {
     "name": "stdout",
     "output_type": "stream",
     "text": [
      "3\n",
      "1\n"
     ]
    }
   ],
   "source": [
    "T=(3,2,4,5,7,8,4,1)\n",
    "print(T.index(5))\n",
    "print(T.count(3))"
   ]
  },
  {
   "cell_type": "code",
   "execution_count": 134,
   "metadata": {},
   "outputs": [
    {
     "name": "stdout",
     "output_type": "stream",
     "text": [
      "2\n"
     ]
    }
   ],
   "source": [
    "T=(2,(3,2,1),232)\n",
    "print(T[1][1])"
   ]
  },
  {
   "cell_type": "markdown",
   "metadata": {},
   "source": [
    "SETS"
   ]
  },
  {
   "cell_type": "code",
   "execution_count": 135,
   "metadata": {},
   "outputs": [
    {
     "name": "stdout",
     "output_type": "stream",
     "text": [
      "{1, 4, 23}\n",
      "3\n",
      "<class 'set'>\n"
     ]
    }
   ],
   "source": [
    "S={1,23,4}\n",
    "print(S)\n",
    "print(len(S))\n",
    "print(type(S))"
   ]
  },
  {
   "cell_type": "code",
   "execution_count": 138,
   "metadata": {},
   "outputs": [
    {
     "name": "stdout",
     "output_type": "stream",
     "text": [
      "<class 'set'>\n",
      "1\n",
      "23\n"
     ]
    }
   ],
   "source": [
    "S=set([1,23])\n",
    "print(type(S))\n",
    "for i in S:\n",
    "    print(i)"
   ]
  },
  {
   "cell_type": "code",
   "execution_count": 140,
   "metadata": {},
   "outputs": [
    {
     "name": "stdout",
     "output_type": "stream",
     "text": [
      "{'E', 'b', 'A', 'V'}\n"
     ]
    }
   ],
   "source": [
    "S={'A','b','V'}\n",
    "S.add('E')\n",
    "print(S)"
   ]
  },
  {
   "cell_type": "code",
   "execution_count": 144,
   "metadata": {},
   "outputs": [
    {
     "name": "stdout",
     "output_type": "stream",
     "text": [
      "{1, 'b', 4, 23, 'A', 'V'}\n"
     ]
    },
    {
     "data": {
      "text/plain": [
       "{1, 23, 4, 'V'}"
      ]
     },
     "execution_count": 144,
     "metadata": {},
     "output_type": "execute_result"
    }
   ],
   "source": [
    "S={'A','b','V'}\n",
    "S1={1,23,4}\n",
    "S.update(S1)\n",
    "print(S)\n",
    "S.remove('A')\n",
    "S.discard('b')\n",
    "S"
   ]
  },
  {
   "cell_type": "code",
   "execution_count": 145,
   "metadata": {},
   "outputs": [],
   "source": [
    "# if we need to initialise set with null value.. use \n",
    "S=set()\n",
    "# and not\n",
    "S= {}\n",
    "# this will initialize a dictionary"
   ]
  },
  {
   "cell_type": "code",
   "execution_count": 147,
   "metadata": {},
   "outputs": [
    {
     "name": "stdout",
     "output_type": "stream",
     "text": [
      "{1, 2, 3, 343, 12}\n",
      "{353, 11, 12, 13, 22}\n"
     ]
    }
   ],
   "source": [
    "#increment every element of set by n\n",
    "S1={2,1,343,12,3}\n",
    "n=10\n",
    "\n",
    "S2=set()\n",
    "for i in S1:\n",
    "    S2.add(i+n)\n",
    "\n",
    "print(S1)\n",
    "print(S2)"
   ]
  },
  {
   "cell_type": "code",
   "execution_count": 148,
   "metadata": {},
   "outputs": [
    {
     "name": "stdout",
     "output_type": "stream",
     "text": [
      "{1, 3, 7, 72, 80, 85, 91, 62}\n"
     ]
    }
   ],
   "source": [
    "n=10\n",
    "S=set()\n",
    "for i in range(n):\n",
    "    S.add(r.randint(1,100))\n",
    "print(S)"
   ]
  },
  {
   "cell_type": "code",
   "execution_count": 149,
   "metadata": {},
   "outputs": [
    {
     "name": "stdout",
     "output_type": "stream",
     "text": [
      "{'fY', 'If', 'ZG', 'ce', 'bQ', 'AE', 'lr', 'VO', 'XK', 'ND'}\n"
     ]
    }
   ],
   "source": [
    "n=10\n",
    "S=set()\n",
    "for i in range(n):\n",
    "    S.add(\"\".join(r.sample(s.ascii_letters,m)))\n",
    "print(S)"
   ]
  },
  {
   "cell_type": "code",
   "execution_count": 150,
   "metadata": {},
   "outputs": [
    {
     "name": "stdout",
     "output_type": "stream",
     "text": [
      "{3, 'Ram', 9, frozenset({2, 3, 12, 5}), frozenset({10, 20, 30})}\n"
     ]
    }
   ],
   "source": [
    "S = set([3, frozenset([10,20,30]), 9, frozenset([12, 5, 3, 2]), \"Ram\"])\n",
    "print(S)"
   ]
  },
  {
   "cell_type": "code",
   "execution_count": 151,
   "metadata": {},
   "outputs": [
    {
     "name": "stdout",
     "output_type": "stream",
     "text": [
      "S1 --> {1, 2, 3, 4, 5, 6, 100}\n",
      "S2 --> {1, 2, 3, 4, 5, 6, 100}\n"
     ]
    }
   ],
   "source": [
    "#------------------------------------------------------------------------\n",
    "# 1.24: Use of copy() function\n",
    "#------------------------------------------------------------------------\n",
    "# Example 1\n",
    "S1 = {1, 2, 3, 4, 5, 6}\n",
    "\n",
    "S2 = S1                            # Pointing to the same memory location as S1\n",
    "S2.add(100)\n",
    "\n",
    "print (\"S1 -->\", S1)\n",
    "print (\"S2 -->\", S2)\n"
   ]
  },
  {
   "cell_type": "markdown",
   "metadata": {},
   "source": [
    "Dictionary\n",
    "\n",
    "in key value pairs"
   ]
  },
  {
   "cell_type": "code",
   "execution_count": 156,
   "metadata": {},
   "outputs": [
    {
     "name": "stdout",
     "output_type": "stream",
     "text": [
      "{1: 32, 5: 2.4}\n",
      "dict_keys([1, 5])\n",
      "dict_values([32, 2.4])\n"
     ]
    }
   ],
   "source": [
    "D={1:23, 2:45}\n",
    "D[5]=2.4\n",
    "D[1]=32\n",
    "del D[2]\n",
    "print(D)\n",
    "print(D.keys())\n",
    "print(D.values())\n"
   ]
  },
  {
   "cell_type": "markdown",
   "metadata": {},
   "source": [
    "numpy"
   ]
  },
  {
   "cell_type": "code",
   "execution_count": 157,
   "metadata": {},
   "outputs": [],
   "source": [
    "import numpy as np"
   ]
  },
  {
   "cell_type": "code",
   "execution_count": 158,
   "metadata": {},
   "outputs": [
    {
     "data": {
      "text/plain": [
       "array([1, 2, 3])"
      ]
     },
     "execution_count": 158,
     "metadata": {},
     "output_type": "execute_result"
    }
   ],
   "source": [
    "list=[1,2,3]\n",
    "np.array(list)"
   ]
  },
  {
   "cell_type": "code",
   "execution_count": 159,
   "metadata": {},
   "outputs": [
    {
     "data": {
      "text/plain": [
       "array([[0., 0., 0., 0., 0.],\n",
       "       [0., 0., 0., 0., 0.],\n",
       "       [0., 0., 0., 0., 0.],\n",
       "       [0., 0., 0., 0., 0.],\n",
       "       [0., 0., 0., 0., 0.]])"
      ]
     },
     "execution_count": 159,
     "metadata": {},
     "output_type": "execute_result"
    }
   ],
   "source": [
    "np.zeros((5,5))"
   ]
  },
  {
   "cell_type": "code",
   "execution_count": 167,
   "metadata": {},
   "outputs": [
    {
     "name": "stdout",
     "output_type": "stream",
     "text": [
      "[17 31 16 13  2 39 46  4 19  2]\n"
     ]
    },
    {
     "data": {
      "text/plain": [
       "6"
      ]
     },
     "execution_count": 167,
     "metadata": {},
     "output_type": "execute_result"
    }
   ],
   "source": [
    "arr = np.arange(25)\n",
    "ranarr = np.random.randint(0,50,10)\n",
    "print(ranarr)\n",
    "ranarr.argmax()"
   ]
  },
  {
   "cell_type": "code",
   "execution_count": 172,
   "metadata": {},
   "outputs": [
    {
     "data": {
      "text/plain": [
       "array([[ 0,  1,  2,  3,  4,  5,  6,  7,  8,  9, 10, 11, 12, 13, 14, 15,\n",
       "        16, 17, 18, 19, 20, 21, 22, 23, 24]])"
      ]
     },
     "execution_count": 172,
     "metadata": {},
     "output_type": "execute_result"
    }
   ],
   "source": [
    "arr.reshape(1,25)"
   ]
  },
  {
   "cell_type": "code",
   "execution_count": 173,
   "metadata": {},
   "outputs": [
    {
     "data": {
      "text/plain": [
       "array([1, 2, 3])"
      ]
     },
     "execution_count": 173,
     "metadata": {},
     "output_type": "execute_result"
    }
   ],
   "source": [
    "arr[1:4]"
   ]
  },
  {
   "cell_type": "code",
   "execution_count": 176,
   "metadata": {},
   "outputs": [
    {
     "name": "stdout",
     "output_type": "stream",
     "text": [
      "[ 0  1  2  3  4  5  6  7  8  9 10 11]\n"
     ]
    }
   ],
   "source": [
    "arr=np.arange(0,12)\n",
    "print(arr)"
   ]
  },
  {
   "cell_type": "code",
   "execution_count": 177,
   "metadata": {},
   "outputs": [
    {
     "name": "stdout",
     "output_type": "stream",
     "text": [
      "[ 0  1  2  3  4  5  6  7  8  9 10 11]\n",
      "[1 2]\n"
     ]
    }
   ],
   "source": [
    "slice=arr[1:3]\n",
    "print(arr)\n",
    "print(slice)"
   ]
  },
  {
   "cell_type": "code",
   "execution_count": 178,
   "metadata": {},
   "outputs": [
    {
     "data": {
      "text/plain": [
       "array([  0,   1,   4,   9,  16,  25,  36,  49,  64,  81, 100, 121])"
      ]
     },
     "execution_count": 178,
     "metadata": {},
     "output_type": "execute_result"
    }
   ],
   "source": [
    "arr**2"
   ]
  },
  {
   "cell_type": "code",
   "execution_count": 179,
   "metadata": {},
   "outputs": [
    {
     "data": {
      "text/plain": [
       "array([0.        , 1.        , 1.41421356, 1.73205081, 2.        ,\n",
       "       2.23606798, 2.44948974, 2.64575131, 2.82842712, 3.        ,\n",
       "       3.16227766, 3.31662479])"
      ]
     },
     "execution_count": 179,
     "metadata": {},
     "output_type": "execute_result"
    }
   ],
   "source": [
    "np.sqrt(arr)"
   ]
  },
  {
   "cell_type": "code",
   "execution_count": 180,
   "metadata": {},
   "outputs": [
    {
     "data": {
      "text/plain": [
       "array([1.00000000e+00, 2.71828183e+00, 7.38905610e+00, 2.00855369e+01,\n",
       "       5.45981500e+01, 1.48413159e+02, 4.03428793e+02, 1.09663316e+03,\n",
       "       2.98095799e+03, 8.10308393e+03, 2.20264658e+04, 5.98741417e+04])"
      ]
     },
     "execution_count": 180,
     "metadata": {},
     "output_type": "execute_result"
    }
   ],
   "source": [
    "np.exp(arr)"
   ]
  },
  {
   "cell_type": "code",
   "execution_count": 182,
   "metadata": {},
   "outputs": [],
   "source": [
    "#np.dot()"
   ]
  },
  {
   "cell_type": "markdown",
   "metadata": {},
   "source": [
    "pandas"
   ]
  },
  {
   "cell_type": "code",
   "execution_count": 183,
   "metadata": {},
   "outputs": [],
   "source": [
    "import pandas as pd"
   ]
  },
  {
   "cell_type": "code",
   "execution_count": 184,
   "metadata": {},
   "outputs": [],
   "source": [
    "# second argument in the series is taken as key"
   ]
  },
  {
   "cell_type": "code",
   "execution_count": 187,
   "metadata": {},
   "outputs": [
    {
     "name": "stdout",
     "output_type": "stream",
     "text": [
      "    Name  marks\n",
      "1     ho     23\n",
      "2    dfw     34\n",
      "4  fgdvc     52\n",
      "5    rfc    234\n"
     ]
    },
    {
     "data": {
      "text/html": [
       "<div>\n",
       "<style scoped>\n",
       "    .dataframe tbody tr th:only-of-type {\n",
       "        vertical-align: middle;\n",
       "    }\n",
       "\n",
       "    .dataframe tbody tr th {\n",
       "        vertical-align: top;\n",
       "    }\n",
       "\n",
       "    .dataframe thead th {\n",
       "        text-align: right;\n",
       "    }\n",
       "</style>\n",
       "<table border=\"1\" class=\"dataframe\">\n",
       "  <thead>\n",
       "    <tr style=\"text-align: right;\">\n",
       "      <th></th>\n",
       "      <th>Name</th>\n",
       "      <th>marks</th>\n",
       "    </tr>\n",
       "  </thead>\n",
       "  <tbody>\n",
       "    <tr>\n",
       "      <th>1</th>\n",
       "      <td>ho</td>\n",
       "      <td>23</td>\n",
       "    </tr>\n",
       "    <tr>\n",
       "      <th>2</th>\n",
       "      <td>dfw</td>\n",
       "      <td>34</td>\n",
       "    </tr>\n",
       "    <tr>\n",
       "      <th>4</th>\n",
       "      <td>fgdvc</td>\n",
       "      <td>52</td>\n",
       "    </tr>\n",
       "    <tr>\n",
       "      <th>5</th>\n",
       "      <td>rfc</td>\n",
       "      <td>234</td>\n",
       "    </tr>\n",
       "  </tbody>\n",
       "</table>\n",
       "</div>"
      ],
      "text/plain": [
       "    Name  marks\n",
       "1     ho     23\n",
       "2    dfw     34\n",
       "4  fgdvc     52\n",
       "5    rfc    234"
      ]
     },
     "execution_count": 187,
     "metadata": {},
     "output_type": "execute_result"
    }
   ],
   "source": [
    "d1={'Name':['ho','dfw','fgdvc','rfc'],'marks':[23,34,52,234]}\n",
    "d2=pd.DataFrame(d1,index=['1',2,4,5])\n",
    "print(d2)\n",
    "d2"
   ]
  },
  {
   "cell_type": "code",
   "execution_count": 190,
   "metadata": {},
   "outputs": [
    {
     "name": "stdout",
     "output_type": "stream",
     "text": [
      "   A   B           C    D\n",
      "0  5  10     9765625  KFV\n",
      "1  4  20  3486784401  ZMW\n",
      "2  7  90     9765625  OFT\n",
      "3  1  50   282475249  CAR\n",
      "4  6  40     9765625  FWR\n"
     ]
    }
   ],
   "source": [
    "df=pd.DataFrame({'A':[r.randint(1,9) for x in range(5)],\n",
    "                 'B':[r.randint(1,9)*10 for x in range(5)],\n",
    "                 'C':[r.randint(1,9)**10 for x in range(5)],\n",
    "                 'D':[\"\".join(r.sample(s.ascii_letters,3)).upper() for x in range(5)]})\n",
    "print(df)"
   ]
  },
  {
   "cell_type": "code",
   "execution_count": 191,
   "metadata": {},
   "outputs": [
    {
     "data": {
      "text/html": [
       "<div>\n",
       "<style scoped>\n",
       "    .dataframe tbody tr th:only-of-type {\n",
       "        vertical-align: middle;\n",
       "    }\n",
       "\n",
       "    .dataframe tbody tr th {\n",
       "        vertical-align: top;\n",
       "    }\n",
       "\n",
       "    .dataframe thead th {\n",
       "        text-align: right;\n",
       "    }\n",
       "</style>\n",
       "<table border=\"1\" class=\"dataframe\">\n",
       "  <thead>\n",
       "    <tr style=\"text-align: right;\">\n",
       "      <th></th>\n",
       "      <th>A</th>\n",
       "      <th>B</th>\n",
       "      <th>C</th>\n",
       "    </tr>\n",
       "  </thead>\n",
       "  <tbody>\n",
       "    <tr>\n",
       "      <th>count</th>\n",
       "      <td>5.000000</td>\n",
       "      <td>5.000000</td>\n",
       "      <td>5.000000e+00</td>\n",
       "    </tr>\n",
       "    <tr>\n",
       "      <th>mean</th>\n",
       "      <td>4.600000</td>\n",
       "      <td>42.000000</td>\n",
       "      <td>7.597113e+08</td>\n",
       "    </tr>\n",
       "    <tr>\n",
       "      <th>std</th>\n",
       "      <td>2.302173</td>\n",
       "      <td>31.144823</td>\n",
       "      <td>1.529047e+09</td>\n",
       "    </tr>\n",
       "    <tr>\n",
       "      <th>min</th>\n",
       "      <td>1.000000</td>\n",
       "      <td>10.000000</td>\n",
       "      <td>9.765625e+06</td>\n",
       "    </tr>\n",
       "    <tr>\n",
       "      <th>25%</th>\n",
       "      <td>4.000000</td>\n",
       "      <td>20.000000</td>\n",
       "      <td>9.765625e+06</td>\n",
       "    </tr>\n",
       "    <tr>\n",
       "      <th>50%</th>\n",
       "      <td>5.000000</td>\n",
       "      <td>40.000000</td>\n",
       "      <td>9.765625e+06</td>\n",
       "    </tr>\n",
       "    <tr>\n",
       "      <th>75%</th>\n",
       "      <td>6.000000</td>\n",
       "      <td>50.000000</td>\n",
       "      <td>2.824752e+08</td>\n",
       "    </tr>\n",
       "    <tr>\n",
       "      <th>max</th>\n",
       "      <td>7.000000</td>\n",
       "      <td>90.000000</td>\n",
       "      <td>3.486784e+09</td>\n",
       "    </tr>\n",
       "  </tbody>\n",
       "</table>\n",
       "</div>"
      ],
      "text/plain": [
       "              A          B             C\n",
       "count  5.000000   5.000000  5.000000e+00\n",
       "mean   4.600000  42.000000  7.597113e+08\n",
       "std    2.302173  31.144823  1.529047e+09\n",
       "min    1.000000  10.000000  9.765625e+06\n",
       "25%    4.000000  20.000000  9.765625e+06\n",
       "50%    5.000000  40.000000  9.765625e+06\n",
       "75%    6.000000  50.000000  2.824752e+08\n",
       "max    7.000000  90.000000  3.486784e+09"
      ]
     },
     "execution_count": 191,
     "metadata": {},
     "output_type": "execute_result"
    }
   ],
   "source": [
    "df.describe()"
   ]
  },
  {
   "cell_type": "code",
   "execution_count": 193,
   "metadata": {},
   "outputs": [
    {
     "data": {
      "text/plain": [
       "DatetimeIndex(['2004-12-18', '2004-12-19', '2004-12-20', '2004-12-21',\n",
       "               '2004-12-22', '2004-12-23'],\n",
       "              dtype='datetime64[ns]', freq='D')"
      ]
     },
     "execution_count": 193,
     "metadata": {},
     "output_type": "execute_result"
    }
   ],
   "source": [
    "dates= pd.date_range('20041218',periods=6)\n",
    "dates"
   ]
  },
  {
   "cell_type": "code",
   "execution_count": 197,
   "metadata": {},
   "outputs": [
    {
     "data": {
      "text/html": [
       "<div>\n",
       "<style scoped>\n",
       "    .dataframe tbody tr th:only-of-type {\n",
       "        vertical-align: middle;\n",
       "    }\n",
       "\n",
       "    .dataframe tbody tr th {\n",
       "        vertical-align: top;\n",
       "    }\n",
       "\n",
       "    .dataframe thead th {\n",
       "        text-align: right;\n",
       "    }\n",
       "</style>\n",
       "<table border=\"1\" class=\"dataframe\">\n",
       "  <thead>\n",
       "    <tr style=\"text-align: right;\">\n",
       "      <th></th>\n",
       "      <th>A</th>\n",
       "      <th>B</th>\n",
       "      <th>C</th>\n",
       "      <th>D</th>\n",
       "    </tr>\n",
       "  </thead>\n",
       "  <tbody>\n",
       "    <tr>\n",
       "      <th>2023-01-01</th>\n",
       "      <td>0.376193</td>\n",
       "      <td>0.228723</td>\n",
       "      <td>0.560398</td>\n",
       "      <td>1.578667</td>\n",
       "    </tr>\n",
       "    <tr>\n",
       "      <th>2023-01-02</th>\n",
       "      <td>0.731011</td>\n",
       "      <td>-0.084733</td>\n",
       "      <td>-2.120060</td>\n",
       "      <td>-1.316152</td>\n",
       "    </tr>\n",
       "    <tr>\n",
       "      <th>2023-01-03</th>\n",
       "      <td>-0.974035</td>\n",
       "      <td>1.159124</td>\n",
       "      <td>-1.531929</td>\n",
       "      <td>0.413303</td>\n",
       "    </tr>\n",
       "    <tr>\n",
       "      <th>2023-01-04</th>\n",
       "      <td>-0.565666</td>\n",
       "      <td>1.194635</td>\n",
       "      <td>0.506421</td>\n",
       "      <td>0.102794</td>\n",
       "    </tr>\n",
       "    <tr>\n",
       "      <th>2023-01-05</th>\n",
       "      <td>0.646565</td>\n",
       "      <td>0.279018</td>\n",
       "      <td>0.553289</td>\n",
       "      <td>0.374965</td>\n",
       "    </tr>\n",
       "    <tr>\n",
       "      <th>2023-01-06</th>\n",
       "      <td>-1.032987</td>\n",
       "      <td>1.061746</td>\n",
       "      <td>-2.019268</td>\n",
       "      <td>0.023052</td>\n",
       "    </tr>\n",
       "  </tbody>\n",
       "</table>\n",
       "</div>"
      ],
      "text/plain": [
       "                   A         B         C         D\n",
       "2023-01-01  0.376193  0.228723  0.560398  1.578667\n",
       "2023-01-02  0.731011 -0.084733 -2.120060 -1.316152\n",
       "2023-01-03 -0.974035  1.159124 -1.531929  0.413303\n",
       "2023-01-04 -0.565666  1.194635  0.506421  0.102794\n",
       "2023-01-05  0.646565  0.279018  0.553289  0.374965\n",
       "2023-01-06 -1.032987  1.061746 -2.019268  0.023052"
      ]
     },
     "execution_count": 197,
     "metadata": {},
     "output_type": "execute_result"
    }
   ],
   "source": [
    "import pandas as pd\n",
    "import numpy as np\n",
    "\n",
    "dates = pd.date_range('20230101', periods=6)  # Define the index (dates)\n",
    "df = pd.DataFrame(np.random.randn(6, 4), index=dates, columns=['A','B','C','D'])\n",
    "\n",
    "df\n"
   ]
  },
  {
   "cell_type": "code",
   "execution_count": 199,
   "metadata": {},
   "outputs": [
    {
     "data": {
      "text/html": [
       "<div>\n",
       "<style scoped>\n",
       "    .dataframe tbody tr th:only-of-type {\n",
       "        vertical-align: middle;\n",
       "    }\n",
       "\n",
       "    .dataframe tbody tr th {\n",
       "        vertical-align: top;\n",
       "    }\n",
       "\n",
       "    .dataframe thead th {\n",
       "        text-align: right;\n",
       "    }\n",
       "</style>\n",
       "<table border=\"1\" class=\"dataframe\">\n",
       "  <thead>\n",
       "    <tr style=\"text-align: right;\">\n",
       "      <th></th>\n",
       "      <th>A</th>\n",
       "      <th>B</th>\n",
       "      <th>C</th>\n",
       "      <th>D</th>\n",
       "    </tr>\n",
       "  </thead>\n",
       "  <tbody>\n",
       "    <tr>\n",
       "      <th>2023-01-06</th>\n",
       "      <td>-1.032987</td>\n",
       "      <td>1.061746</td>\n",
       "      <td>-2.019268</td>\n",
       "      <td>0.023052</td>\n",
       "    </tr>\n",
       "    <tr>\n",
       "      <th>2023-01-05</th>\n",
       "      <td>0.646565</td>\n",
       "      <td>0.279018</td>\n",
       "      <td>0.553289</td>\n",
       "      <td>0.374965</td>\n",
       "    </tr>\n",
       "    <tr>\n",
       "      <th>2023-01-04</th>\n",
       "      <td>-0.565666</td>\n",
       "      <td>1.194635</td>\n",
       "      <td>0.506421</td>\n",
       "      <td>0.102794</td>\n",
       "    </tr>\n",
       "    <tr>\n",
       "      <th>2023-01-03</th>\n",
       "      <td>-0.974035</td>\n",
       "      <td>1.159124</td>\n",
       "      <td>-1.531929</td>\n",
       "      <td>0.413303</td>\n",
       "    </tr>\n",
       "    <tr>\n",
       "      <th>2023-01-02</th>\n",
       "      <td>0.731011</td>\n",
       "      <td>-0.084733</td>\n",
       "      <td>-2.120060</td>\n",
       "      <td>-1.316152</td>\n",
       "    </tr>\n",
       "    <tr>\n",
       "      <th>2023-01-01</th>\n",
       "      <td>0.376193</td>\n",
       "      <td>0.228723</td>\n",
       "      <td>0.560398</td>\n",
       "      <td>1.578667</td>\n",
       "    </tr>\n",
       "  </tbody>\n",
       "</table>\n",
       "</div>"
      ],
      "text/plain": [
       "                   A         B         C         D\n",
       "2023-01-06 -1.032987  1.061746 -2.019268  0.023052\n",
       "2023-01-05  0.646565  0.279018  0.553289  0.374965\n",
       "2023-01-04 -0.565666  1.194635  0.506421  0.102794\n",
       "2023-01-03 -0.974035  1.159124 -1.531929  0.413303\n",
       "2023-01-02  0.731011 -0.084733 -2.120060 -1.316152\n",
       "2023-01-01  0.376193  0.228723  0.560398  1.578667"
      ]
     },
     "execution_count": 199,
     "metadata": {},
     "output_type": "execute_result"
    }
   ],
   "source": [
    "df.sort_index(axis=0,ascending=False)"
   ]
  },
  {
   "cell_type": "code",
   "execution_count": 200,
   "metadata": {},
   "outputs": [
    {
     "data": {
      "text/html": [
       "<div>\n",
       "<style scoped>\n",
       "    .dataframe tbody tr th:only-of-type {\n",
       "        vertical-align: middle;\n",
       "    }\n",
       "\n",
       "    .dataframe tbody tr th {\n",
       "        vertical-align: top;\n",
       "    }\n",
       "\n",
       "    .dataframe thead th {\n",
       "        text-align: right;\n",
       "    }\n",
       "</style>\n",
       "<table border=\"1\" class=\"dataframe\">\n",
       "  <thead>\n",
       "    <tr style=\"text-align: right;\">\n",
       "      <th></th>\n",
       "      <th>A</th>\n",
       "      <th>B</th>\n",
       "      <th>C</th>\n",
       "      <th>D</th>\n",
       "    </tr>\n",
       "  </thead>\n",
       "  <tbody>\n",
       "    <tr>\n",
       "      <th>2023-01-01</th>\n",
       "      <td>0.376193</td>\n",
       "      <td>0.228723</td>\n",
       "      <td>0.560398</td>\n",
       "      <td>1.578667</td>\n",
       "    </tr>\n",
       "    <tr>\n",
       "      <th>2023-01-05</th>\n",
       "      <td>0.646565</td>\n",
       "      <td>0.279018</td>\n",
       "      <td>0.553289</td>\n",
       "      <td>0.374965</td>\n",
       "    </tr>\n",
       "    <tr>\n",
       "      <th>2023-01-04</th>\n",
       "      <td>-0.565666</td>\n",
       "      <td>1.194635</td>\n",
       "      <td>0.506421</td>\n",
       "      <td>0.102794</td>\n",
       "    </tr>\n",
       "    <tr>\n",
       "      <th>2023-01-03</th>\n",
       "      <td>-0.974035</td>\n",
       "      <td>1.159124</td>\n",
       "      <td>-1.531929</td>\n",
       "      <td>0.413303</td>\n",
       "    </tr>\n",
       "    <tr>\n",
       "      <th>2023-01-06</th>\n",
       "      <td>-1.032987</td>\n",
       "      <td>1.061746</td>\n",
       "      <td>-2.019268</td>\n",
       "      <td>0.023052</td>\n",
       "    </tr>\n",
       "    <tr>\n",
       "      <th>2023-01-02</th>\n",
       "      <td>0.731011</td>\n",
       "      <td>-0.084733</td>\n",
       "      <td>-2.120060</td>\n",
       "      <td>-1.316152</td>\n",
       "    </tr>\n",
       "  </tbody>\n",
       "</table>\n",
       "</div>"
      ],
      "text/plain": [
       "                   A         B         C         D\n",
       "2023-01-01  0.376193  0.228723  0.560398  1.578667\n",
       "2023-01-05  0.646565  0.279018  0.553289  0.374965\n",
       "2023-01-04 -0.565666  1.194635  0.506421  0.102794\n",
       "2023-01-03 -0.974035  1.159124 -1.531929  0.413303\n",
       "2023-01-06 -1.032987  1.061746 -2.019268  0.023052\n",
       "2023-01-02  0.731011 -0.084733 -2.120060 -1.316152"
      ]
     },
     "execution_count": 200,
     "metadata": {},
     "output_type": "execute_result"
    }
   ],
   "source": [
    "df.sort_values(by='C', ascending=False)"
   ]
  },
  {
   "cell_type": "code",
   "execution_count": null,
   "metadata": {},
   "outputs": [],
   "source": []
  }
 ],
 "metadata": {
  "kernelspec": {
   "display_name": "Python 3",
   "language": "python",
   "name": "python3"
  },
  "language_info": {
   "codemirror_mode": {
    "name": "ipython",
    "version": 3
   },
   "file_extension": ".py",
   "mimetype": "text/x-python",
   "name": "python",
   "nbconvert_exporter": "python",
   "pygments_lexer": "ipython3",
   "version": "3.11.7"
  }
 },
 "nbformat": 4,
 "nbformat_minor": 2
}
