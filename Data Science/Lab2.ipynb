{
 "cells": [
  {
   "cell_type": "markdown",
   "metadata": {},
   "source": [
    "## Listt"
   ]
  },
  {
   "cell_type": "markdown",
   "metadata": {},
   "source": [
    "Operations on list\n",
    "adding elements: insert, append, extend\n",
    "\n",
    "removing elements from list: del, remove, pop\n",
    "\n",
    "Other operations : min, max\n"
   ]
  },
  {
   "cell_type": "code",
   "execution_count": 12,
   "metadata": {},
   "outputs": [
    {
     "data": {
      "text/plain": [
       "[1, 2, 13, 3, 4, 5, 8, 6, 7, 21, 23, 44]"
      ]
     },
     "execution_count": 12,
     "metadata": {},
     "output_type": "execute_result"
    }
   ],
   "source": [
    "## Insert in list\n",
    "L= [1,2,3,4,5]\n",
    "L.insert(2,13)\n",
    "L.append(8)\n",
    "L1=[21,23,44]\n",
    "L.extend([6,7])\n",
    "L.extend(L1)\n",
    "L"
   ]
  },
  {
   "cell_type": "code",
   "execution_count": 24,
   "metadata": {},
   "outputs": [
    {
     "data": {
      "text/plain": [
       "[]"
      ]
     },
     "execution_count": 24,
     "metadata": {},
     "output_type": "execute_result"
    }
   ],
   "source": [
    "## Remove operations\n",
    "L= [1,2,3,4,5]\n",
    "del L[2]\n",
    "L.remove(4)\n",
    "L.pop(0)\n",
    "L.pop()\n",
    "L.clear()\n",
    "L"
   ]
  },
  {
   "cell_type": "code",
   "execution_count": 36,
   "metadata": {},
   "outputs": [
    {
     "data": {
      "text/plain": [
       "'am'"
      ]
     },
     "execution_count": 36,
     "metadata": {},
     "output_type": "execute_result"
    }
   ],
   "source": [
    "L=[1,2,4,89,21,34]\n",
    "L2=['I','am','done',3,5] #is list pr min and max operation ni show hora bcz mixed data type ke liye ni chlta\n",
    "L3=[\"laze\",\"done\",\"i\",\"am\",\"lane\"] #dictionary ke hisaab se max and min values dera h\n",
    "min(L3)"
   ]
  },
  {
   "cell_type": "code",
   "execution_count": 48,
   "metadata": {},
   "outputs": [
    {
     "name": "stdout",
     "output_type": "stream",
     "text": [
      "[1, 2, 4, 21, 34, 89]\n"
     ]
    }
   ],
   "source": [
    "L=[1,2,4,89,21,34]\n",
    "avg= sum(L)/len(L)\n",
    "# L.sort(reverse=True)\n",
    "hi= sorted(L)\n",
    "print(hi)\n"
   ]
  },
  {
   "cell_type": "code",
   "execution_count": 53,
   "metadata": {},
   "outputs": [
    {
     "name": "stdout",
     "output_type": "stream",
     "text": [
      "140711152436360\n",
      "140711152436360\n",
      "2601774579008\n",
      "2601775012096\n"
     ]
    }
   ],
   "source": [
    "# check the address\n",
    "a=12\n",
    "b=12\n",
    "print(id(a))\n",
    "print(id(b))\n",
    "\n",
    "L1=[1,2]\n",
    "L2=[1,2]\n",
    "print(id(L1))\n",
    "print(id(L2))"
   ]
  },
  {
   "cell_type": "code",
   "execution_count": 58,
   "metadata": {},
   "outputs": [
    {
     "name": "stdout",
     "output_type": "stream",
     "text": [
      "True\n",
      "True\n",
      "False\n"
     ]
    }
   ],
   "source": [
    "L1=[1,2]\n",
    "L2=[1,2]\n",
    "print(2 in L1)\n",
    "print(L1 is not L2)\n",
    "print(L1 is L2)"
   ]
  },
  {
   "cell_type": "markdown",
   "metadata": {},
   "source": [
    "Dictionaryyy: \n",
    "in the form of key value pair"
   ]
  },
  {
   "cell_type": "code",
   "execution_count": 80,
   "metadata": {},
   "outputs": [
    {
     "name": "stdout",
     "output_type": "stream",
     "text": [
      "1\n",
      "dict_keys(['apple', 'guava', 'mango'])\n",
      "dict_values([1, 2, 3])\n",
      "dict_items([('apple', 1), ('guava', 2), ('mango', 3)])\n",
      "3\n",
      "{'apple': 1, 'guava': 2, 'mango': 3, 'orange': 4}\n"
     ]
    }
   ],
   "source": [
    "dict= {\"apple\":1, \"guava\":2, \"mango\":3}\n",
    "print(dict[\"apple\"])\n",
    "print(dict.keys())\n",
    "print(dict.values())\n",
    "print(dict.items())\n",
    "print(dict.get(\"mango\"))\n",
    "dict.update({\"orange\":4})\n",
    "print(dict)"
   ]
  },
  {
   "cell_type": "markdown",
   "metadata": {},
   "source": [
    "conversion of list to dictionary\n"
   ]
  },
  {
   "cell_type": "code",
   "execution_count": 81,
   "metadata": {},
   "outputs": [
    {
     "data": {
      "text/plain": [
       "list"
      ]
     },
     "execution_count": 81,
     "metadata": {},
     "output_type": "execute_result"
    }
   ],
   "source": [
    "dict= {\"apple\":1, \"guava\":2, \"mango\":3}\n",
    "type(list(dict.values()))"
   ]
  },
  {
   "cell_type": "markdown",
   "metadata": {},
   "source": [
    "Sets and its operationss"
   ]
  },
  {
   "cell_type": "code",
   "execution_count": 83,
   "metadata": {},
   "outputs": [
    {
     "data": {
      "text/plain": [
       "{1, 2, 3, 4, 5, 6}"
      ]
     },
     "execution_count": 83,
     "metadata": {},
     "output_type": "execute_result"
    }
   ],
   "source": [
    "set = {1, 2, 3, 4, 5}\n",
    "set.add(6)\n",
    "set"
   ]
  },
  {
   "cell_type": "code",
   "execution_count": 85,
   "metadata": {},
   "outputs": [
    {
     "data": {
      "text/plain": [
       "7"
      ]
     },
     "execution_count": 85,
     "metadata": {},
     "output_type": "execute_result"
    }
   ],
   "source": [
    "# List of list\n",
    "L=[1,[2,3],[4,5,[6,7]]]\n",
    "L[2][2][1]"
   ]
  },
  {
   "cell_type": "code",
   "execution_count": 88,
   "metadata": {},
   "outputs": [
    {
     "name": "stdout",
     "output_type": "stream",
     "text": [
      "fruits:['apple', 'mango', 'guava']\n",
      "quantity:[1, 2, 3]\n"
     ]
    }
   ],
   "source": [
    "# Dictionary of List\n",
    "dict1={\"fruits\":[\"apple\",\"mango\",\"guava\"],\n",
    "       \"quantity\":[1,2,3]}\n",
    "for key,value in dict1.items():\n",
    "    print(f\"{key}:{value}\")"
   ]
  },
  {
   "cell_type": "code",
   "execution_count": null,
   "metadata": {},
   "outputs": [],
   "source": [
    "# dictionary of dictionary\n",
    "dict={\"fruits:ssssss\"}"
   ]
  }
 ],
 "metadata": {
  "kernelspec": {
   "display_name": "Python 3",
   "language": "python",
   "name": "python3"
  },
  "language_info": {
   "codemirror_mode": {
    "name": "ipython",
    "version": 3
   },
   "file_extension": ".py",
   "mimetype": "text/x-python",
   "name": "python",
   "nbconvert_exporter": "python",
   "pygments_lexer": "ipython3",
   "version": "3.11.7"
  }
 },
 "nbformat": 4,
 "nbformat_minor": 2
}
