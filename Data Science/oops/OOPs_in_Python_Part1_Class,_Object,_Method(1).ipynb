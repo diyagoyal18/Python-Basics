{
  "cells": [
    {
      "cell_type": "markdown",
      "metadata": {
        "id": "eaNq4Gmi9Qic"
      },
      "source": [
        "# OOPs in Python - Class, Object, Method\n",
        "\n",
        "#### Topics\n",
        "Major object-oriented concepts of Python are:\n",
        "- Class\n",
        "- Method\n",
        "- Object\n",
        "\n",
        "##### Note:\n",
        "1. First Clean the Evironment (Go to \"Kernel\" Menu --> \"Restart & Clean Output\"\n",
        "2. To execute the code --> Click on a cell and press cntrl + enter key"
      ]
    },
    {
      "cell_type": "markdown",
      "metadata": {
        "id": "y3VrvYW2-6Ka"
      },
      "source": [
        "### 1. Define a Class in Python"
      ]
    },
    {
      "cell_type": "code",
      "execution_count": null,
      "metadata": {
        "colab": {
          "base_uri": "https://localhost:8080/"
        },
        "id": "eikxCFcN-7AR",
        "outputId": "e4cb4e54-5942-48cd-9776-184d06e7568d",
        "scrolled": true
      },
      "outputs": [
        {
          "name": "stdout",
          "output_type": "stream",
          "text": [
            "<__main__.Employee object at 0x79a800559360>\n"
          ]
        }
      ],
      "source": [
        "# Example 1:\n",
        "class Employee:\n",
        "  pass\n",
        "\n",
        "p = Employee()      # Create object of class\n",
        "print(p)            # Return the Memory Address\n"
      ]
    },
    {
      "cell_type": "markdown",
      "metadata": {
        "id": "CSdlRU0lg5sV"
      },
      "source": [
        "###### Re-run the above program; New object is created with new memory location"
      ]
    },
    {
      "cell_type": "code",
      "execution_count": null,
      "metadata": {
        "colab": {
          "base_uri": "https://localhost:8080/"
        },
        "id": "ap5FP8pNg5sW",
        "outputId": "aba2a8e5-c2d3-4876-fda5-0c6ffe8adee6"
      },
      "outputs": [
        {
          "name": "stdout",
          "output_type": "stream",
          "text": [
            "False\n"
          ]
        }
      ],
      "source": [
        "# Example 2: Get the Memory Address\n",
        "\n",
        "class Dog:\n",
        "    pass\n",
        "\n",
        "a = Dog()     # Return the Memory Address\n",
        "b = Dog()     # Return the Memory Address\n",
        "\n",
        "print (a == b)\n"
      ]
    },
    {
      "cell_type": "markdown",
      "metadata": {
        "id": "T8V7-pJ_g5sX"
      },
      "source": [
        "### 2. Define class attribute in Python\n",
        "\n",
        "- Class Attribute: Available every where in the class"
      ]
    },
    {
      "cell_type": "markdown",
      "metadata": {
        "id": "4JxRSIsjg5sZ"
      },
      "source": [
        "##### Part 1: Class declaration"
      ]
    },
    {
      "cell_type": "code",
      "execution_count": null,
      "metadata": {
        "id": "khBQDSWLg5sZ"
      },
      "outputs": [],
      "source": [
        "class Employee:\n",
        "    # Class attribute\n",
        "    name = None\n",
        "    age = None\n"
      ]
    },
    {
      "cell_type": "markdown",
      "metadata": {
        "id": "NAM06p3Eg5sa"
      },
      "source": [
        "##### Part 2: Object Creation"
      ]
    },
    {
      "cell_type": "code",
      "execution_count": null,
      "metadata": {
        "colab": {
          "base_uri": "https://localhost:8080/"
        },
        "id": "zIqrAilJg5sb",
        "outputId": "1c758ff1-6cb2-4aab-c2cf-b0d98eb32afb"
      },
      "outputs": [
        {
          "name": "stdout",
          "output_type": "stream",
          "text": [
            "p1.name -->  Ram\n",
            "p1.age -->  None\n",
            "\n",
            "p2.name -->  Shyam\n",
            "p2.age -->  25\n"
          ]
        }
      ],
      "source": [
        "p1 = Employee()                   # Create object of class\n",
        "p2 = Employee()                   # Create object of class\n",
        "\n",
        "p1.name = \"Ram\"\n",
        "p2.name = \"Shyam\"\n",
        "p2.age = 25\n",
        "\n",
        "print(\"p1.name --> \", p1.name)\n",
        "print(\"p1.age --> \", p1.age)\n",
        "\n",
        "print(\"\\np2.name --> \", p2.name)\n",
        "print(\"p2.age --> \", p2.age)\n"
      ]
    },
    {
      "cell_type": "markdown",
      "metadata": {
        "id": "wbSeLMPfg5sc"
      },
      "source": [
        "### 3. Define methods in class and use of self\n",
        "#### Key Points: use of self in method\n",
        "- This is similar to THIS pointer in C++ and this reference in Java.\n",
        "- Used to access class attributes and class methods with in a class\n"
      ]
    },
    {
      "cell_type": "markdown",
      "metadata": {
        "id": "eHtClEmNg5sd"
      },
      "source": [
        "### 3.1: Class Employee\n",
        "##### Part 1: Class declaration"
      ]
    },
    {
      "cell_type": "code",
      "execution_count": null,
      "metadata": {
        "id": "qjHLWmw2g5sf"
      },
      "outputs": [],
      "source": [
        "class Employee:\n",
        "    # Class attribute\n",
        "    name = None\n",
        "    age = None\n",
        "\n",
        "    # Class Method\n",
        "    def Display(self):                   # self must be passed\n",
        "        print(\"\\nName is -->\", self.name)    # Error if self was removed\n",
        "        print(\"Age is -->\", self.age)\n"
      ]
    },
    {
      "cell_type": "markdown",
      "metadata": {
        "id": "gbntPMMBg5sh"
      },
      "source": [
        "##### Part 2: Object Creation"
      ]
    },
    {
      "cell_type": "code",
      "execution_count": null,
      "metadata": {
        "colab": {
          "base_uri": "https://localhost:8080/"
        },
        "id": "YRaIr3Tkg5si",
        "outputId": "629ed2d3-5da9-46c5-b161-36e2fcb73d41",
        "scrolled": true
      },
      "outputs": [
        {
          "name": "stdout",
          "output_type": "stream",
          "text": [
            "\n",
            "Name is --> Ram\n",
            "Age is --> None\n",
            "\n",
            "Name is --> Shyam\n",
            "Age is --> 25\n"
          ]
        }
      ],
      "source": [
        "p1 = Employee()                   # Create object of class\n",
        "p2 = Employee()                   # Create object of class\n",
        "\n",
        "p1.name = \"Ram\"\n",
        "p2.name = \"Shyam\"\n",
        "p2.age = 25\n",
        "\n",
        "p1.Display()\n",
        "p2.Display()\n"
      ]
    },
    {
      "cell_type": "markdown",
      "metadata": {
        "id": "_ek2DejPg5sj"
      },
      "source": [
        "### 3.2: Class Math\n",
        "##### Part 1: Class declaration"
      ]
    },
    {
      "cell_type": "code",
      "execution_count": null,
      "metadata": {
        "id": "kALMAdSAg5sk"
      },
      "outputs": [],
      "source": [
        "class Math:\n",
        "    # Class attribute\n",
        "    a = None\n",
        "    b = None\n",
        "    c = None\n",
        "\n",
        "    def Add(self, x, y):\n",
        "        self.a = x\n",
        "        self.b = y\n",
        "        self.c = self.a + self.b\n",
        "\n",
        "    def Show(self):\n",
        "        print (\"Sum is -->\",self.c)\n"
      ]
    },
    {
      "cell_type": "markdown",
      "metadata": {
        "id": "_1BmbHJNg5sm"
      },
      "source": [
        "##### Part 2: Object Creation"
      ]
    },
    {
      "cell_type": "code",
      "execution_count": null,
      "metadata": {
        "colab": {
          "base_uri": "https://localhost:8080/"
        },
        "id": "-cT9z8UQg5sm",
        "outputId": "f16ab657-c65b-445c-90b2-73e6878e7752"
      },
      "outputs": [
        {
          "name": "stdout",
          "output_type": "stream",
          "text": [
            "Sum is --> 30\n",
            "Sum is --> 40\n"
          ]
        }
      ],
      "source": [
        "p1 = Math()                   # Create object of class\n",
        "p2 = Math()\n",
        "a1 = 10\n",
        "b1 = 20\n",
        "b2 = 30\n",
        "p1.Add(a1,b1)\n",
        "p2.Add(a1,b2)\n",
        "p1.Show()\n",
        "p2.Show()\n"
      ]
    },
    {
      "cell_type": "markdown",
      "metadata": {
        "id": "dLK5STrHXxhn"
      },
      "source": [
        "* The self keyword is used to represent an instance (object) of the given\n",
        "class. In this case, the two Math objects p1 and p2 have their own name and age attributes. If there was no self argument, the same class couldn't hold the information for both these objects.\n",
        "\n",
        "* However, since the class is just a blueprint, self allows access to the attributes and methods of each object in python. This allows each object to have its own attributes and methods. Thus, even long before creating these objects, we reference the objects as self while defining the class."
      ]
    },
    {
      "cell_type": "code",
      "execution_count": null,
      "metadata": {
        "colab": {
          "base_uri": "https://localhost:8080/"
        },
        "id": "vOgca8ogVdr2",
        "outputId": "d1dc119b-c0d7-4be6-a3de-26c0c74116e4"
      },
      "outputs": [
        {
          "data": {
            "text/plain": [
              "function"
            ]
          },
          "execution_count": 3,
          "metadata": {},
          "output_type": "execute_result"
        }
      ],
      "source": [
        "type(Math.Add)"
      ]
    },
    {
      "cell_type": "code",
      "execution_count": null,
      "metadata": {
        "colab": {
          "base_uri": "https://localhost:8080/"
        },
        "id": "ZIpPp1hOVqOZ",
        "outputId": "9e4d93ba-dddc-4874-ff74-bea5b8f1c002"
      },
      "outputs": [
        {
          "data": {
            "text/plain": [
              "method"
            ]
          },
          "execution_count": 4,
          "metadata": {},
          "output_type": "execute_result"
        }
      ],
      "source": [
        "type(p.Add)"
      ]
    },
    {
      "cell_type": "markdown",
      "metadata": {
        "id": "E6Xbjj17V3q_"
      },
      "source": [
        "# **A peculiar thing about methods (in Python) is that the object itself is passed as the first argument to the corresponding function. In the case of the above example, the method call p.Add() is actually equivalent to Math.Add(p).**"
      ]
    },
    {
      "cell_type": "markdown",
      "metadata": {
        "id": "vrmUTUl4WydS"
      },
      "source": [
        "# **Generally, when we call a method with some arguments, the corresponding class function is called by placing the method's object before the first argument. So, anything like obj.meth(args) becomes Class.meth(obj, args).**"
      ]
    },
    {
      "cell_type": "markdown",
      "metadata": {
        "id": "h_NE5EWgg5sn"
      },
      "source": [
        "### 3.3: Class Student\n",
        "##### Part 1: Class declaration"
      ]
    },
    {
      "cell_type": "code",
      "execution_count": null,
      "metadata": {
        "id": "TguJrQC_g5sn"
      },
      "outputs": [],
      "source": [
        "class Student:\n",
        "\n",
        "    # Class Variable\n",
        "    branch = 'CSE'\n",
        "\n",
        "    # The init method or constructor\n",
        "    def __init__(self, r):\n",
        "        self.rollNo = r\n",
        "\n",
        "    # Adds an instance variable\n",
        "    def setAddress(self, b):\n",
        "        self.address = b\n",
        "\n",
        "    # Retrieves instance variable\n",
        "    def getAddress(self):\n",
        "        return self.address\n"
      ]
    },
    {
      "cell_type": "markdown",
      "metadata": {
        "id": "JjbF3Eo-g5sn"
      },
      "source": [
        "##### Part 2: Object Creation"
      ]
    },
    {
      "cell_type": "code",
      "execution_count": null,
      "metadata": {
        "colab": {
          "base_uri": "https://localhost:8080/"
        },
        "id": "STdHaHAzg5so",
        "outputId": "50c3e359-2bdb-4489-e3a3-c6c85047b959"
      },
      "outputs": [
        {
          "name": "stdout",
          "output_type": "stream",
          "text": [
            "Address is --> Noida, UP\n"
          ]
        }
      ],
      "source": [
        "a = Student(32)\n",
        "a.setAddress(\"Noida, UP\")\n",
        "print(\"Address is -->\", a.getAddress())\n"
      ]
    },
    {
      "cell_type": "markdown",
      "metadata": {
        "id": "zR1dTY4Bg5so"
      },
      "source": [
        "### 4 Instance Attributes and Class Attributes (The _ _ init _ _ () method)"
      ]
    },
    {
      "cell_type": "markdown",
      "metadata": {
        "id": "ou9NfVFRg5so"
      },
      "source": [
        "#### Key Point: Instance Attribute\n",
        "- The _ _ init _ _ method is similar to constructors in C++ and Java.\n",
        "\\- It is run as soon as an object of a class is instantiated.\n",
        "- The method is useful to do any initialization you want to do with your object."
      ]
    },
    {
      "cell_type": "markdown",
      "metadata": {
        "id": "Tnc_ZagZg5sp"
      },
      "source": [
        "### 4.1 Class Student"
      ]
    },
    {
      "cell_type": "code",
      "execution_count": null,
      "metadata": {
        "colab": {
          "base_uri": "https://localhost:8080/"
        },
        "id": "VghHCcMHg5sp",
        "outputId": "0434f977-6395-4ca2-ac71-d5eca8716f08"
      },
      "outputs": [
        {
          "name": "stdout",
          "output_type": "stream",
          "text": [
            "\n",
            "Hello, my name is None\n",
            "\n",
            "Hello, my name is Utkarsh\n"
          ]
        }
      ],
      "source": [
        "class Student:\n",
        "\n",
        "    # Instance attribute\n",
        "    def __init__(self, name = None):\n",
        "        self.name = name\n",
        "\n",
        "    # Class Method\n",
        "    def WishHello(self):\n",
        "        print('\\nHello, my name is', self.name)\n",
        "\n",
        "p1 = Student()\n",
        "p1.WishHello()\n",
        "\n",
        "p2 = Student('Utkarsh')\n",
        "p2.WishHello()\n"
      ]
    },
    {
      "cell_type": "markdown",
      "metadata": {
        "id": "BbD-Dumcg5sp"
      },
      "source": [
        "### 4.2 Class dog (Error)"
      ]
    },
    {
      "cell_type": "code",
      "execution_count": null,
      "metadata": {
        "colab": {
          "base_uri": "https://localhost:8080/",
          "height": 214
        },
        "id": "SN-PZfueg5sq",
        "outputId": "4978904f-699d-47b6-9690-69a9788719f7",
        "scrolled": true
      },
      "outputs": [
        {
          "ename": "TypeError",
          "evalue": "Dog.__init__() missing 2 required positional arguments: 'name' and 'age'",
          "output_type": "error",
          "traceback": [
            "\u001b[0;31m---------------------------------------------------------------------------\u001b[0m",
            "\u001b[0;31mTypeError\u001b[0m                                 Traceback (most recent call last)",
            "\u001b[0;32m<ipython-input-1-71dfcf6f3dd9>\u001b[0m in \u001b[0;36m<cell line: 10>\u001b[0;34m()\u001b[0m\n\u001b[1;32m      8\u001b[0m         \u001b[0mself\u001b[0m\u001b[0;34m.\u001b[0m\u001b[0mage\u001b[0m \u001b[0;34m=\u001b[0m \u001b[0mage\u001b[0m\u001b[0;34m\u001b[0m\u001b[0;34m\u001b[0m\u001b[0m\n\u001b[1;32m      9\u001b[0m \u001b[0;34m\u001b[0m\u001b[0m\n\u001b[0;32m---> 10\u001b[0;31m \u001b[0mo1\u001b[0m \u001b[0;34m=\u001b[0m \u001b[0mDog\u001b[0m\u001b[0;34m(\u001b[0m\u001b[0;34m)\u001b[0m   \u001b[0;31m# Error; Instance attributes must be pass\u001b[0m\u001b[0;34m\u001b[0m\u001b[0;34m\u001b[0m\u001b[0m\n\u001b[0m\u001b[1;32m     11\u001b[0m \u001b[0mprint\u001b[0m\u001b[0;34m(\u001b[0m\u001b[0;34m\"o1 -->\"\u001b[0m\u001b[0;34m,\u001b[0m \u001b[0mo1\u001b[0m\u001b[0;34m)\u001b[0m\u001b[0;34m\u001b[0m\u001b[0;34m\u001b[0m\u001b[0m\n\u001b[1;32m     12\u001b[0m \u001b[0;34m\u001b[0m\u001b[0m\n",
            "\u001b[0;31mTypeError\u001b[0m: Dog.__init__() missing 2 required positional arguments: 'name' and 'age'"
          ]
        }
      ],
      "source": [
        "class Dog:\n",
        "    # Class attribute\n",
        "    species = \"Desi\"\n",
        "\n",
        "    # Instance attribute\n",
        "    def __init__(self, name, age):\n",
        "        self.name = name\n",
        "        self.age = age\n",
        "\n",
        "o1 = Dog()   # Error; Instance attributes must be pass\n",
        "print(\"o1 -->\", o1)\n",
        "\n"
      ]
    },
    {
      "cell_type": "markdown",
      "metadata": {
        "id": "Zz8bxGeIg5sq"
      },
      "source": [
        "### 4.3 Class dog (No Error)"
      ]
    },
    {
      "cell_type": "code",
      "execution_count": 1,
      "metadata": {
        "colab": {
          "base_uri": "https://localhost:8080/"
        },
        "id": "JryntE4Fg5sq",
        "outputId": "361b1e37-fc6e-4a35-9b51-38101b05ddce",
        "scrolled": true
      },
      "outputs": [
        {
          "name": "stdout",
          "output_type": "stream",
          "text": [
            "o1 --> <__main__.Dog object at 0x7eab86ae92d0>\n",
            "o2 --> <__main__.Dog object at 0x7eab86aea5c0>\n",
            "o3 --> <__main__.Dog object at 0x7eab86aea560>\n"
          ]
        }
      ],
      "source": [
        "\n",
        "class Dog:\n",
        "    # Class attribute\n",
        "    species = \"Desi\"\n",
        "\n",
        "    # Instance attribute\n",
        "    def __init__(self, name = None, age = None):\n",
        "        self.name = name\n",
        "        self.age = age\n",
        "\n",
        "o1 = Dog()\n",
        "o2 = Dog(\"Tomy\")\n",
        "o3 = Dog(\"Tomy\", 12)\n",
        "\n",
        "print(\"o1 -->\", o1)    # print address of o1, o2, o3\n",
        "print(\"o2 -->\", o2)\n",
        "print(\"o3 -->\", o3)\n"
      ]
    },
    {
      "cell_type": "markdown",
      "metadata": {
        "id": "hy5VJJwug5sr"
      },
      "source": [
        "### 5. Accessing class/instance attributes"
      ]
    },
    {
      "cell_type": "markdown",
      "metadata": {
        "id": "t7vjHxW_g5sr"
      },
      "source": [
        "##### Part 1: Class declaration"
      ]
    },
    {
      "cell_type": "code",
      "execution_count": null,
      "metadata": {
        "id": "M5MqMclWg5st",
        "scrolled": true
      },
      "outputs": [],
      "source": [
        "class Student:\n",
        "\n",
        "    # Class attribute\n",
        "    branch = 'CSE'\n",
        "\n",
        "    # Instance attribute\n",
        "    def __init__(self, r):\n",
        "\n",
        "        # Instance Variable\n",
        "        self.rollNo = r\n"
      ]
    },
    {
      "cell_type": "markdown",
      "metadata": {
        "id": "pvBYvH85g5st"
      },
      "source": [
        "##### Part 2: Object Creation"
      ]
    },
    {
      "cell_type": "code",
      "execution_count": null,
      "metadata": {
        "colab": {
          "base_uri": "https://localhost:8080/"
        },
        "id": "H60YX9YGg5su",
        "outputId": "4e0dbe3c-3388-4b5a-f059-6ad12c52a873",
        "scrolled": true
      },
      "outputs": [
        {
          "name": "stdout",
          "output_type": "stream",
          "text": [
            "s1.branch --> CSE\n",
            "s2.branch --> CSE\n",
            "s1.rollNo --> 20\n",
            "s2.rollNo --> 21\n",
            "Student.branch --> CSE\n"
          ]
        }
      ],
      "source": [
        "# Objects of Student class\n",
        "s1 = Student(20)\n",
        "s2 = Student(21)\n",
        "\n",
        "print(\"s1.branch -->\",s1.branch)  # prints \"CSE\"\n",
        "print(\"s2.branch -->\",s2.branch)  # prints \"CSE\"\n",
        "print(\"s1.rollNo -->\",s1.rollNo)  # prints 20\n",
        "print(\"s2.rollNo -->\",s2.rollNo)  # prints 21\n",
        "\n",
        "# Class variables can be accessed using class name also\n",
        "print(\"Student.branch -->\", Student.branch) # prints \"CSE\"\n"
      ]
    },
    {
      "cell_type": "markdown",
      "metadata": {
        "id": "LsljHYqdg5su"
      },
      "source": [
        "### 6. Case Study 1: ATM Transactions (Limit the number of transactions)"
      ]
    },
    {
      "cell_type": "markdown",
      "metadata": {
        "id": "_5jylTkag5su"
      },
      "source": [
        "### 6.1: Class Attribute is called with self\n",
        "#### Part1: Class declaration"
      ]
    },
    {
      "cell_type": "code",
      "execution_count": 1,
      "metadata": {
        "id": "PjthD5Ocg5su",
        "scrolled": true
      },
      "outputs": [],
      "source": [
        "class ATM:\n",
        "\n",
        "    # Class attribute\n",
        "    session = 0\n",
        "\n",
        "    # Instance attributes\n",
        "    def __init__(self, Amount):\n",
        "        self.session += 1                 # Increment the counter\n",
        "        print (\"\\nCurrent Session Count:\", self.session)\n",
        "\n",
        "        if self.session > 1:\n",
        "            print(\"Error !! Only Single instance is allowed.\")\n",
        "        else:\n",
        "            print(\"Sucessful Withdraw\")\n"
      ]
    },
    {
      "cell_type": "markdown",
      "metadata": {
        "id": "QlyWXtBfg5sv"
      },
      "source": [
        "##### Part 2: Object Creation"
      ]
    },
    {
      "cell_type": "code",
      "execution_count": 2,
      "metadata": {
        "colab": {
          "base_uri": "https://localhost:8080/"
        },
        "id": "XMrFiNIfg5sv",
        "outputId": "1ef318c7-86fb-4b29-afff-0d6a5fc29538",
        "scrolled": true
      },
      "outputs": [
        {
          "name": "stdout",
          "output_type": "stream",
          "text": [
            "\n",
            "Current Session Count: 1\n",
            "Sucessful Withdraw\n",
            "\n",
            "Current Session Count: 1\n",
            "Sucessful Withdraw\n",
            "\n",
            "Current Session Count: 1\n",
            "Sucessful Withdraw\n"
          ]
        }
      ],
      "source": [
        "# Three Instances are created\n",
        "\n",
        "o1 = ATM(5000)\n",
        "o2 = ATM(4000)\n",
        "o3 = ATM(3000)\n",
        "\n",
        "# No increment in the session variable"
      ]
    },
    {
      "cell_type": "markdown",
      "metadata": {
        "id": "_CPl_14kg5sw"
      },
      "source": [
        "### 6.2: Class Attribute is called with Class Name\n",
        "#### Part1: Class declaration"
      ]
    },
    {
      "cell_type": "code",
      "execution_count": 3,
      "metadata": {
        "id": "aQxJMM9zg5sw",
        "scrolled": true
      },
      "outputs": [],
      "source": [
        "class ATM:\n",
        "\n",
        "    # Class attribute\n",
        "    session = 0\n",
        "\n",
        "    # Instance attributes\n",
        "    def __init__(self, Amount):\n",
        "        ATM.session += 1          # Increment the counter\n",
        "        print (\"\\nCurrent Session Count:\", ATM.session)\n",
        "\n",
        "        if ATM.session > 1:\n",
        "            print(\"Error !! Only Single instance is allowed.\")\n",
        "        else:\n",
        "            print(\"Sucessful Withdraw\")\n"
      ]
    },
    {
      "cell_type": "markdown",
      "metadata": {
        "id": "q0-mUz6Qg5sy"
      },
      "source": [
        "##### Part 2: Object Creation"
      ]
    },
    {
      "cell_type": "code",
      "execution_count": 4,
      "metadata": {
        "colab": {
          "base_uri": "https://localhost:8080/"
        },
        "id": "2p0MmdQBg5sy",
        "outputId": "ee2a09d7-96aa-4ead-9379-724e00d33df9",
        "scrolled": true
      },
      "outputs": [
        {
          "name": "stdout",
          "output_type": "stream",
          "text": [
            "\n",
            "Current Session Count: 1\n",
            "Sucessful Withdraw\n",
            "\n",
            "Current Session Count: 2\n",
            "Error !! Only Single instance is allowed.\n",
            "\n",
            "Current Session Count: 3\n",
            "Error !! Only Single instance is allowed.\n"
          ]
        }
      ],
      "source": [
        "# Three Instances are created\n",
        "\n",
        "o1 = ATM(5000)\n",
        "o2 = ATM(4000)\n",
        "o3 = ATM(3000)\n"
      ]
    },
    {
      "cell_type": "markdown",
      "metadata": {
        "id": "0URZAwTog5sy"
      },
      "source": [
        "### 7. Case Study 2: API Call (Track record the number of API called from different agents)"
      ]
    },
    {
      "cell_type": "markdown",
      "metadata": {
        "id": "K0IfCpnNg5sy"
      },
      "source": [
        "##### Part 1: Class decleration that returns the current time"
      ]
    },
    {
      "cell_type": "code",
      "execution_count": 5,
      "metadata": {
        "id": "8omR-Eg2g5sy",
        "scrolled": true
      },
      "outputs": [],
      "source": [
        "import time\n",
        "class APITime:\n",
        "\n",
        "    # Class attribute\n",
        "    apiCount = {}            # Dictionary will keep the count with id\n",
        "\n",
        "    # Instance attributes\n",
        "    def __init__(self, id):\n",
        "        if id not in APITime.apiCount:\n",
        "            APITime.apiCount[id] = 1\n",
        "        else:\n",
        "            APITime.apiCount[id] += 1\n",
        "\n",
        "    def GetTime(self):\n",
        "        return time.time()\n",
        "\n",
        "    def GetCount(self):\n",
        "        for i in APITime.apiCount:\n",
        "            print (i,\":\",APITime.apiCount[i])\n"
      ]
    },
    {
      "cell_type": "markdown",
      "metadata": {
        "id": "krkRcS_eg5s0"
      },
      "source": [
        "##### Part 2: Ids are declared"
      ]
    },
    {
      "cell_type": "code",
      "execution_count": 6,
      "metadata": {
        "id": "P5GyxxiCg5s0"
      },
      "outputs": [],
      "source": [
        "id1 = \"amazon\"\n",
        "id2 = \"flipkart\"\n",
        "id3 = \"microsoft\"\n",
        "id4 = \"facebook\"\n"
      ]
    },
    {
      "cell_type": "markdown",
      "metadata": {
        "id": "j57t0Jjpg5s2"
      },
      "source": [
        "##### Part 3: Create Instances for id1"
      ]
    },
    {
      "cell_type": "code",
      "execution_count": 7,
      "metadata": {
        "colab": {
          "base_uri": "https://localhost:8080/"
        },
        "id": "dRqrTDivg5s3",
        "outputId": "b2574c35-d596-4e4f-d82b-7188480b41ba"
      },
      "outputs": [
        {
          "name": "stdout",
          "output_type": "stream",
          "text": [
            "amazon : 3\n"
          ]
        }
      ],
      "source": [
        "o1 = APITime(id1); o1.GetTime()\n",
        "o2 = APITime(id1)\n",
        "o3 = APITime(id1)\n",
        "o1.GetCount()\n",
        "\n",
        "# Rerun the code 2-3 times"
      ]
    },
    {
      "cell_type": "markdown",
      "metadata": {
        "id": "JjHh0e1sg5s3"
      },
      "source": [
        "##### Part 4: Create Instances for id2"
      ]
    },
    {
      "cell_type": "code",
      "execution_count": 8,
      "metadata": {
        "id": "knMePdkIg5s4"
      },
      "outputs": [
        {
          "name": "stdout",
          "output_type": "stream",
          "text": [
            "amazon : 3\n",
            "flipkart : 2\n",
            "amazon : 3\n",
            "flipkart : 2\n"
          ]
        }
      ],
      "source": [
        "o4 = APITime(id2)\n",
        "o5 = APITime(id2)\n",
        "o1.GetCount()\n",
        "o5.GetCount()\n",
        "\n",
        "# Rerun the code 2-3 times"
      ]
    },
    {
      "cell_type": "markdown",
      "metadata": {
        "id": "VcdCK8rtg5s5"
      },
      "source": [
        "##### Part 5: Create Instances for id3"
      ]
    },
    {
      "cell_type": "code",
      "execution_count": 9,
      "metadata": {
        "id": "5JaBi4_xg5s5"
      },
      "outputs": [
        {
          "name": "stdout",
          "output_type": "stream",
          "text": [
            "amazon : 3\n",
            "flipkart : 2\n",
            "microsoft : 4\n"
          ]
        }
      ],
      "source": [
        "o6 = APITime(id3)\n",
        "o7 = APITime(id3)\n",
        "o8 = APITime(id3)\n",
        "o9 = APITime(id3)\n",
        "o1.GetCount()\n",
        "\n",
        "# Rerun the code 2-3 times"
      ]
    },
    {
      "cell_type": "markdown",
      "metadata": {
        "id": "ZjnTm5-_g5s5"
      },
      "source": [
        "##### Part 6: Create Instances for id4"
      ]
    },
    {
      "cell_type": "code",
      "execution_count": 10,
      "metadata": {
        "id": "e_Ej8iTzg5s6"
      },
      "outputs": [
        {
          "name": "stdout",
          "output_type": "stream",
          "text": [
            "amazon : 3\n",
            "flipkart : 2\n",
            "microsoft : 4\n",
            "facebook : 1\n"
          ]
        }
      ],
      "source": [
        "o10 = APITime(id4)\n",
        "o1.GetCount()\n",
        "\n",
        "# Rerun the code 2-3 times"
      ]
    },
    {
      "cell_type": "markdown",
      "metadata": {
        "id": "oxpki4VRg5s7"
      },
      "source": [
        "### 8. Case Study 3: Authorization of API Call"
      ]
    },
    {
      "cell_type": "markdown",
      "metadata": {
        "id": "NmV2NM8pg5s8"
      },
      "source": [
        "##### Part 1: Class decleration that check the API Authorization"
      ]
    },
    {
      "cell_type": "code",
      "execution_count": null,
      "metadata": {
        "id": "uM6WujObg5s8",
        "scrolled": true
      },
      "outputs": [],
      "source": [
        "import time\n",
        "class APITime:\n",
        "\n",
        "    # Class attribute\n",
        "    apiCount = {}\n",
        "    authIds = [\"amazon\", \"flipcart\"]\n",
        "\n",
        "\n",
        "    # Instance attributes\n",
        "    def __init__(self, id):\n",
        "\n",
        "        if id not in APITime.authIds:\n",
        "            raise Exception(\"Not Authorised\")     # Raise Exception for Un-Authorised access\n",
        "            # You can - (1) Terminate the session or (2) Delete the object\n",
        "\n",
        "        print (\"Authorised\")\n"
      ]
    },
    {
      "cell_type": "markdown",
      "metadata": {
        "id": "5ZDRNo9Fg5s9"
      },
      "source": [
        "##### Part 2: Ids are declared"
      ]
    },
    {
      "cell_type": "code",
      "execution_count": null,
      "metadata": {
        "id": "E_DgLBBZg5s_"
      },
      "outputs": [],
      "source": [
        "# Ids are declared\n",
        "id1 = \"amazon\"\n",
        "id2 = \"flipcart\"\n",
        "id3 = \"microsoft\"\n",
        "id4 = \"facebook\"\n"
      ]
    },
    {
      "cell_type": "markdown",
      "metadata": {
        "id": "o2K6TyYWg5tA"
      },
      "source": [
        "##### Part 3: Instances are created with Authorised ids"
      ]
    },
    {
      "cell_type": "code",
      "execution_count": null,
      "metadata": {
        "id": "re7m6kiYg5tC"
      },
      "outputs": [],
      "source": [
        "o1 = APITime(id1)      # No Error\n",
        "o2 = APITime(id2)      # No Error\n"
      ]
    },
    {
      "cell_type": "markdown",
      "metadata": {
        "id": "b4cH0Jcvg5tC"
      },
      "source": [
        "##### Part 4: Instances are created with Un-Authorised ids"
      ]
    },
    {
      "cell_type": "code",
      "execution_count": null,
      "metadata": {
        "id": "dd4jnWS-g5tC"
      },
      "outputs": [],
      "source": [
        "o3 = APITime(id3)      # Error: Exception raised\n"
      ]
    },
    {
      "cell_type": "markdown",
      "metadata": {
        "id": "Drl7DfK8g5tE"
      },
      "source": [
        "### 9 Method _ _ str _ _ () : Print Help Information when print class object"
      ]
    },
    {
      "cell_type": "code",
      "execution_count": null,
      "metadata": {
        "id": "jAzqcFh9g5tF"
      },
      "outputs": [],
      "source": [
        "# Example 1:\n",
        "\n",
        "class Employee:\n",
        "    employeeName = None\n",
        "    employeeAge = None\n",
        "    employeeAddress = None\n",
        "\n",
        "    def __str__(self):\n",
        "        s = \"This class stores the employee records\"\n",
        "        return s\n",
        "\n",
        "e1 = Employee()\n",
        "print(e1)                # print the text defined in __str__()\n"
      ]
    },
    {
      "cell_type": "code",
      "execution_count": null,
      "metadata": {
        "id": "fDb3LaHMg5tG"
      },
      "outputs": [],
      "source": [
        "# Example 2:\n",
        "\n",
        "class Employee:\n",
        "    employeeName = None\n",
        "    employeeAge = None\n",
        "    employeeAddress = None\n",
        "\n",
        "    def __str__(self):\n",
        "        s = \"\\nThis class stores the employee records\"\n",
        "        return s\n",
        "\n",
        "    def __init__(self, name, age, address = None):\n",
        "        self.employeeName = name\n",
        "        self.employeeAge = age\n",
        "        self.employeeAddress = address\n",
        "\n",
        "    def Display(self):\n",
        "        print(\"\\nEmployee Name -->\", self.employeeName)\n",
        "        print(\"Employee Age -->\", self.employeeAge)\n",
        "        print(\"Employee Address -->\",self.employeeAddress)\n",
        "\n",
        "\n",
        "e1 = Employee(\"Aman\",30)\n",
        "print(e1)                # print the text defined in __str__()\n",
        "e1.Display()\n",
        "\n",
        "\n",
        "e2 = Employee(\"Shyam\",25, \"Patiala\")\n",
        "print(e2)                # print the text defined in __str__()\n",
        "e2.Display()\n"
      ]
    }
  ],
  "metadata": {
    "colab": {
      "provenance": []
    },
    "kernelspec": {
      "display_name": "Python 3",
      "language": "python",
      "name": "python3"
    },
    "language_info": {
      "codemirror_mode": {
        "name": "ipython",
        "version": 3
      },
      "file_extension": ".py",
      "mimetype": "text/x-python",
      "name": "python",
      "nbconvert_exporter": "python",
      "pygments_lexer": "ipython3",
      "version": "3.11.7"
    }
  },
  "nbformat": 4,
  "nbformat_minor": 0
}
