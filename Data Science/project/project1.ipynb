{
 "cells": [
  {
   "cell_type": "code",
   "execution_count": 9,
   "metadata": {},
   "outputs": [],
   "source": [
    "import pandas as pd\n",
    "import numpy as np\n"
   ]
  },
  {
   "cell_type": "code",
   "execution_count": null,
   "metadata": {},
   "outputs": [],
   "source": [
    "df = pd.read_csv(r'C:\\Users\\diyag\\Desktop\\projects\\python_practice\\Data Science\\project\\seattle-weather.csv',header=None)\n"
   ]
  },
  {
   "cell_type": "code",
   "execution_count": 16,
   "metadata": {},
   "outputs": [
    {
     "data": {
      "text/html": [
       "<div>\n",
       "<style scoped>\n",
       "    .dataframe tbody tr th:only-of-type {\n",
       "        vertical-align: middle;\n",
       "    }\n",
       "\n",
       "    .dataframe tbody tr th {\n",
       "        vertical-align: top;\n",
       "    }\n",
       "\n",
       "    .dataframe thead th {\n",
       "        text-align: right;\n",
       "    }\n",
       "</style>\n",
       "<table border=\"1\" class=\"dataframe\">\n",
       "  <thead>\n",
       "    <tr style=\"text-align: right;\">\n",
       "      <th></th>\n",
       "      <th>0</th>\n",
       "      <th>1</th>\n",
       "      <th>2</th>\n",
       "      <th>3</th>\n",
       "      <th>4</th>\n",
       "      <th>5</th>\n",
       "    </tr>\n",
       "  </thead>\n",
       "  <tbody>\n",
       "    <tr>\n",
       "      <th>count</th>\n",
       "      <td>1462</td>\n",
       "      <td>1462</td>\n",
       "      <td>1462</td>\n",
       "      <td>1462</td>\n",
       "      <td>1462</td>\n",
       "      <td>1462</td>\n",
       "    </tr>\n",
       "    <tr>\n",
       "      <th>unique</th>\n",
       "      <td>1462</td>\n",
       "      <td>112</td>\n",
       "      <td>68</td>\n",
       "      <td>56</td>\n",
       "      <td>80</td>\n",
       "      <td>6</td>\n",
       "    </tr>\n",
       "    <tr>\n",
       "      <th>top</th>\n",
       "      <td>date</td>\n",
       "      <td>0.0</td>\n",
       "      <td>11.1</td>\n",
       "      <td>6.1</td>\n",
       "      <td>2.6</td>\n",
       "      <td>rain</td>\n",
       "    </tr>\n",
       "    <tr>\n",
       "      <th>freq</th>\n",
       "      <td>1</td>\n",
       "      <td>838</td>\n",
       "      <td>58</td>\n",
       "      <td>66</td>\n",
       "      <td>76</td>\n",
       "      <td>641</td>\n",
       "    </tr>\n",
       "  </tbody>\n",
       "</table>\n",
       "</div>"
      ],
      "text/plain": [
       "           0     1     2     3     4     5\n",
       "count   1462  1462  1462  1462  1462  1462\n",
       "unique  1462   112    68    56    80     6\n",
       "top     date   0.0  11.1   6.1   2.6  rain\n",
       "freq       1   838    58    66    76   641"
      ]
     },
     "execution_count": 16,
     "metadata": {},
     "output_type": "execute_result"
    }
   ],
   "source": [
    "df.describe()"
   ]
  },
  {
   "cell_type": "code",
   "execution_count": 34,
   "metadata": {},
   "outputs": [
    {
     "name": "stdout",
     "output_type": "stream",
     "text": [
      "0    0\n",
      "1    0\n",
      "2    0\n",
      "3    0\n",
      "4    0\n",
      "5    0\n",
      "dtype: int64\n"
     ]
    }
   ],
   "source": [
    "missing_values = df.isnull().sum()\n",
    "print(missing_values)"
   ]
  },
  {
   "cell_type": "code",
   "execution_count": 35,
   "metadata": {},
   "outputs": [
    {
     "ename": "SyntaxError",
     "evalue": "invalid non-printable character U+00A0 (640793421.py, line 2)",
     "output_type": "error",
     "traceback": [
      "\u001b[1;36m  Cell \u001b[1;32mIn[35], line 2\u001b[1;36m\u001b[0m\n\u001b[1;33m    print(\"Minimum values for numeric columns:\\n\", min_val)\u001b[0m\n\u001b[1;37m                                                  ^\u001b[0m\n\u001b[1;31mSyntaxError\u001b[0m\u001b[1;31m:\u001b[0m invalid non-printable character U+00A0\n"
     ]
    }
   ],
   "source": [
    "min_val = df.min(numeric_only=True)\n",
    "print(\"Minimum values for numeric columns:\\n\", min_val)"
   ]
  },
  {
   "cell_type": "code",
   "execution_count": 19,
   "metadata": {},
   "outputs": [
    {
     "name": "stdout",
     "output_type": "stream",
     "text": [
      "               0              1         2         3    4        5\n",
      "0            NaN  precipitation  temp_max  temp_min  NaN  weather\n",
      "1     2012-01-01            NaN      12.8       5.0  4.7  drizzle\n",
      "2     2012-01-02            NaN      10.6       2.8  4.5     rain\n",
      "3     2012-01-03            NaN      11.7       7.2  NaN      NaN\n",
      "4     2012-01-04           20.3      12.2       NaN  4.7     rain\n",
      "...          ...            ...       ...       ...  ...      ...\n",
      "1457  2015-12-27            8.6       NaN       1.7  NaN     rain\n",
      "1458         NaN            1.5       NaN       1.7  1.3     rain\n",
      "1459  2015-12-29            0.0       NaN       0.6  NaN      fog\n",
      "1460  2015-12-30            0.0       NaN      -1.0  3.4      sun\n",
      "1461  2015-12-31            0.0       5.6       NaN  3.5      NaN\n",
      "\n",
      "[1462 rows x 6 columns]\n"
     ]
    }
   ],
   "source": [
    "def randomly_replace_values(df, replace_fraction=0.2):\n",
    "    \"\"\"\n",
    "    Randomly replace a fraction of values in each column with NaN.\n",
    "    \n",
    "    Parameters:\n",
    "        df (pd.DataFrame): The input DataFrame.\n",
    "        replace_fraction (float): Fraction of values to replace with NaN in each column.\n",
    "\n",
    "    Returns:\n",
    "        pd.DataFrame: DataFrame with random values replaced by NaN.\n",
    "    \"\"\"\n",
    "    # Iterate over each column\n",
    "    for col in df.columns:\n",
    "        # Determine how many values to replace with NaN\n",
    "        num_to_replace = int(replace_fraction * len(df))\n",
    "        \n",
    "        # Randomly select indices to replace in the current column\n",
    "        indices = np.random.choice(df.index, num_to_replace, replace=False)\n",
    "        \n",
    "        # Set the selected indices to NaN\n",
    "        df.loc[indices, col] = np.nan\n",
    "    \n",
    "    return df\n",
    "\n",
    "# Apply the function\n",
    "df_with_random_nans = randomly_replace_values(df, replace_fraction=0.3)\n",
    "print(df_with_random_nans)"
   ]
  },
  {
   "cell_type": "code",
   "execution_count": 20,
   "metadata": {},
   "outputs": [
    {
     "name": "stdout",
     "output_type": "stream",
     "text": [
      "True\n"
     ]
    }
   ],
   "source": [
    "contains_nan = df.isnull().values.any()\n",
    "print(contains_nan)"
   ]
  },
  {
   "cell_type": "code",
   "execution_count": 27,
   "metadata": {},
   "outputs": [],
   "source": [
    "# df = df.fillna('')\n",
    "# print(df) "
   ]
  },
  {
   "cell_type": "code",
   "execution_count": 39,
   "metadata": {},
   "outputs": [
    {
     "name": "stdout",
     "output_type": "stream",
     "text": [
      "Minimum values for each column:\n",
      "0    \n",
      "1    \n",
      "2    \n",
      "3    \n",
      "4    \n",
      "5    \n",
      "dtype: object\n",
      "A new dataset with NaN values filled has been created as 'new_data_min.csv'.\n"
     ]
    },
    {
     "data": {
      "text/html": [
       "<div>\n",
       "<style scoped>\n",
       "    .dataframe tbody tr th:only-of-type {\n",
       "        vertical-align: middle;\n",
       "    }\n",
       "\n",
       "    .dataframe tbody tr th {\n",
       "        vertical-align: top;\n",
       "    }\n",
       "\n",
       "    .dataframe thead th {\n",
       "        text-align: right;\n",
       "    }\n",
       "</style>\n",
       "<table border=\"1\" class=\"dataframe\">\n",
       "  <thead>\n",
       "    <tr style=\"text-align: right;\">\n",
       "      <th></th>\n",
       "      <th>4</th>\n",
       "    </tr>\n",
       "  </thead>\n",
       "  <tbody>\n",
       "    <tr>\n",
       "      <th>count</th>\n",
       "      <td>1024.000000</td>\n",
       "    </tr>\n",
       "    <tr>\n",
       "      <th>mean</th>\n",
       "      <td>3.227441</td>\n",
       "    </tr>\n",
       "    <tr>\n",
       "      <th>std</th>\n",
       "      <td>1.451186</td>\n",
       "    </tr>\n",
       "    <tr>\n",
       "      <th>min</th>\n",
       "      <td>0.500000</td>\n",
       "    </tr>\n",
       "    <tr>\n",
       "      <th>25%</th>\n",
       "      <td>2.200000</td>\n",
       "    </tr>\n",
       "    <tr>\n",
       "      <th>50%</th>\n",
       "      <td>2.900000</td>\n",
       "    </tr>\n",
       "    <tr>\n",
       "      <th>75%</th>\n",
       "      <td>4.000000</td>\n",
       "    </tr>\n",
       "    <tr>\n",
       "      <th>max</th>\n",
       "      <td>9.500000</td>\n",
       "    </tr>\n",
       "  </tbody>\n",
       "</table>\n",
       "</div>"
      ],
      "text/plain": [
       "                 4\n",
       "count  1024.000000\n",
       "mean      3.227441\n",
       "std       1.451186\n",
       "min       0.500000\n",
       "25%       2.200000\n",
       "50%       2.900000\n",
       "75%       4.000000\n",
       "max       9.500000"
      ]
     },
     "execution_count": 39,
     "metadata": {},
     "output_type": "execute_result"
    }
   ],
   "source": [
    "\n",
    "# Get the minimum value of each column\n",
    "min_values = df.min()\n",
    "\n",
    "# Print the minimum values\n",
    "print(\"Minimum values for each column:\")\n",
    "print(min_values)\n",
    "\n",
    "# Replace NaN values in each column with the minimum value of that column\n",
    "df_filled = df.fillna(min_values)\n",
    "\n",
    "# Save the new dataset to a CSV file\n",
    "# Replace 'new_data.csv' with your desired output file name\n",
    "df_filled.to_csv('new_data_min.csv', index=False)\n",
    "\n",
    "print(\"A new dataset with NaN values filled has been created as 'new_data_min.csv'.\")\n",
    "\n",
    "\n",
    "\n",
    "df2 = pd.read_csv(r'C:\\Users\\diyag\\Desktop\\projects\\python_practice\\Data Science\\project\\new_data_min.csv')\n",
    "df2.describe()"
   ]
  },
  {
   "cell_type": "code",
   "execution_count": 41,
   "metadata": {},
   "outputs": [
    {
     "name": "stdout",
     "output_type": "stream",
     "text": [
      "Maxmium values for each column:\n",
      "0       2015-12-31\n",
      "1    precipitation\n",
      "2         temp_max\n",
      "3         temp_min\n",
      "4              9.5\n",
      "5          weather\n",
      "dtype: object\n",
      "A new dataset with NaN values filled has been created as 'new_data_max.csv'.\n"
     ]
    },
    {
     "data": {
      "text/html": [
       "<div>\n",
       "<style scoped>\n",
       "    .dataframe tbody tr th:only-of-type {\n",
       "        vertical-align: middle;\n",
       "    }\n",
       "\n",
       "    .dataframe tbody tr th {\n",
       "        vertical-align: top;\n",
       "    }\n",
       "\n",
       "    .dataframe thead th {\n",
       "        text-align: right;\n",
       "    }\n",
       "</style>\n",
       "<table border=\"1\" class=\"dataframe\">\n",
       "  <thead>\n",
       "    <tr style=\"text-align: right;\">\n",
       "      <th></th>\n",
       "      <th>4</th>\n",
       "    </tr>\n",
       "  </thead>\n",
       "  <tbody>\n",
       "    <tr>\n",
       "      <th>count</th>\n",
       "      <td>1024.000000</td>\n",
       "    </tr>\n",
       "    <tr>\n",
       "      <th>mean</th>\n",
       "      <td>3.227441</td>\n",
       "    </tr>\n",
       "    <tr>\n",
       "      <th>std</th>\n",
       "      <td>1.451186</td>\n",
       "    </tr>\n",
       "    <tr>\n",
       "      <th>min</th>\n",
       "      <td>0.500000</td>\n",
       "    </tr>\n",
       "    <tr>\n",
       "      <th>25%</th>\n",
       "      <td>2.200000</td>\n",
       "    </tr>\n",
       "    <tr>\n",
       "      <th>50%</th>\n",
       "      <td>2.900000</td>\n",
       "    </tr>\n",
       "    <tr>\n",
       "      <th>75%</th>\n",
       "      <td>4.000000</td>\n",
       "    </tr>\n",
       "    <tr>\n",
       "      <th>max</th>\n",
       "      <td>9.500000</td>\n",
       "    </tr>\n",
       "  </tbody>\n",
       "</table>\n",
       "</div>"
      ],
      "text/plain": [
       "                 4\n",
       "count  1024.000000\n",
       "mean      3.227441\n",
       "std       1.451186\n",
       "min       0.500000\n",
       "25%       2.200000\n",
       "50%       2.900000\n",
       "75%       4.000000\n",
       "max       9.500000"
      ]
     },
     "execution_count": 41,
     "metadata": {},
     "output_type": "execute_result"
    }
   ],
   "source": [
    "\n",
    "\n",
    "# Get the minimum value of each column\n",
    "max_values = df.max()\n",
    "\n",
    "# Print the minimum values\n",
    "print(\"Maxmium values for each column:\")\n",
    "print(max_values)\n",
    "\n",
    "# Replace NaN values in each column with the minimum value of that column\n",
    "df_filled = df.fillna(max_values)\n",
    "\n",
    "# Save the new dataset to a CSV file\n",
    "# Replace 'new_data.csv' with your desired output file name\n",
    "df_filled.to_csv('new_data_max.csv', index=False)\n",
    "\n",
    "print(\"A new dataset with NaN values filled has been created as 'new_data_max.csv'.\")\n",
    "\n",
    "\n",
    "\n",
    "df2 = pd.read_csv(r'C:\\Users\\diyag\\Desktop\\projects\\python_practice\\Data Science\\project\\new_data_max.csv')\n",
    "df2.describe()"
   ]
  },
  {
   "cell_type": "code",
   "execution_count": null,
   "metadata": {},
   "outputs": [],
   "source": []
  }
 ],
 "metadata": {
  "kernelspec": {
   "display_name": "Python 3",
   "language": "python",
   "name": "python3"
  },
  "language_info": {
   "codemirror_mode": {
    "name": "ipython",
    "version": 3
   },
   "file_extension": ".py",
   "mimetype": "text/x-python",
   "name": "python",
   "nbconvert_exporter": "python",
   "pygments_lexer": "ipython3",
   "version": "3.11.7"
  }
 },
 "nbformat": 4,
 "nbformat_minor": 2
}
