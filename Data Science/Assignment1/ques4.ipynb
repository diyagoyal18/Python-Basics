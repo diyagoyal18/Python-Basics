{
 "cells": [
  {
   "cell_type": "code",
   "execution_count": 1,
   "metadata": {},
   "outputs": [],
   "source": [
    "import random"
   ]
  },
  {
   "cell_type": "code",
   "execution_count": 3,
   "metadata": {},
   "outputs": [
    {
     "name": "stdout",
     "output_type": "stream",
     "text": [
      "[277, 275, 148, 250, 208, 304, 192, 214, 106, 493, 414, 346, 63, 241, 114, 95, 437, 241, 160, 152, 250, 156, 263, 262, 486, 138, 142, 418, 128, 414, 202, 381, 480, 278, 179, 374, 223, 61, 412, 175, 72, 377, 300, 60, 108, 167, 256, 259, 491, 71]\n"
     ]
    }
   ],
   "source": [
    "L=[]\n",
    "for x in range(50):\n",
    "    L.append(random.randint(50,500))\n",
    "print(L)"
   ]
  },
  {
   "cell_type": "code",
   "execution_count": 4,
   "metadata": {},
   "outputs": [
    {
     "name": "stdout",
     "output_type": "stream",
     "text": [
      "277\n",
      "275\n",
      "493\n",
      "63\n",
      "241\n",
      "95\n",
      "437\n",
      "241\n",
      "263\n",
      "381\n",
      "179\n",
      "223\n",
      "61\n",
      "175\n",
      "377\n",
      "167\n",
      "259\n",
      "491\n",
      "71\n"
     ]
    }
   ],
   "source": [
    "for x in L:\n",
    "    if x%2!=0:\n",
    "        print(x)"
   ]
  },
  {
   "cell_type": "code",
   "execution_count": 11,
   "metadata": {},
   "outputs": [
    {
     "name": "stdout",
     "output_type": "stream",
     "text": [
      "277\n",
      "275\n",
      "493\n",
      "63\n",
      "241\n",
      "95\n",
      "437\n",
      "241\n",
      "263\n",
      "381\n",
      "179\n",
      "223\n",
      "61\n",
      "175\n",
      "377\n",
      "167\n",
      "259\n",
      "491\n",
      "71\n"
     ]
    }
   ],
   "source": [
    "for x in L:\n",
    "    if x%2!=0:\n",
    "        print(x)"
   ]
  },
  {
   "cell_type": "code",
   "execution_count": 15,
   "metadata": {},
   "outputs": [
    {
     "name": "stdout",
     "output_type": "stream",
     "text": [
      "[277, 241, 241, 263, 179, 223, 61, 167, 491, 71]\n"
     ]
    }
   ],
   "source": [
    "def is_prime(x):\n",
    "\n",
    "    for i in range(2,int(x**0.5)+1):\n",
    "        if x%i==0:\n",
    "            return False\n",
    "    return True\n",
    "prime_numbers = [x for x in L if is_prime(x)]\n",
    "print(prime_numbers)\n"
   ]
  }
 ],
 "metadata": {
  "kernelspec": {
   "display_name": "Python 3",
   "language": "python",
   "name": "python3"
  },
  "language_info": {
   "codemirror_mode": {
    "name": "ipython",
    "version": 3
   },
   "file_extension": ".py",
   "mimetype": "text/x-python",
   "name": "python",
   "nbconvert_exporter": "python",
   "pygments_lexer": "ipython3",
   "version": "3.11.7"
  }
 },
 "nbformat": 4,
 "nbformat_minor": 2
}
