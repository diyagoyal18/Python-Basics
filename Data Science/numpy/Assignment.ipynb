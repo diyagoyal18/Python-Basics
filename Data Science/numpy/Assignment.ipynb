{
 "cells": [
  {
   "cell_type": "code",
   "execution_count": 9,
   "metadata": {},
   "outputs": [],
   "source": [
    "import numpy as np"
   ]
  },
  {
   "cell_type": "code",
   "execution_count": 3,
   "metadata": {},
   "outputs": [
    {
     "data": {
      "text/plain": [
       "array([[2, 1, 3],\n",
       "       [5, 4, 6]])"
      ]
     },
     "execution_count": 3,
     "metadata": {},
     "output_type": "execute_result"
    }
   ],
   "source": [
    "#ques1\n",
    "x=np.array([[1,2,3],[4,5,6]])\n",
    "x[:,[0,1]]=x[:,[1,0]]\n",
    "x"
   ]
  },
  {
   "cell_type": "code",
   "execution_count": 5,
   "metadata": {},
   "outputs": [
    {
     "data": {
      "text/plain": [
       "array([[4, 5, 6],\n",
       "       [1, 2, 3]])"
      ]
     },
     "execution_count": 5,
     "metadata": {},
     "output_type": "execute_result"
    }
   ],
   "source": [
    "#ques2\n",
    "x=np.array([[1,2,3],[4,5,6]])\n",
    "rev= x[::-1]\n",
    "rev"
   ]
  },
  {
   "cell_type": "code",
   "execution_count": 7,
   "metadata": {},
   "outputs": [
    {
     "data": {
      "text/plain": [
       "array([ 1, -2, -3, -4, -5,  6,  7,  8])"
      ]
     },
     "execution_count": 7,
     "metadata": {},
     "output_type": "execute_result"
    }
   ],
   "source": [
    "#ques 3\n",
    "a=np.array([1,2,3,4,5,6,7,8])\n",
    "a[(a >= 2) & (a <= 5)] *= -1\n",
    "a\n"
   ]
  },
  {
   "cell_type": "code",
   "execution_count": 24,
   "metadata": {},
   "outputs": [
    {
     "name": "stdout",
     "output_type": "stream",
     "text": [
      "[[1 2 3 4 5]\n",
      " [6 7 8 9 0]\n",
      " [1 3 4 5 6]\n",
      " [6 5 4 3 2]\n",
      " [3 5 6 7 4]]\n",
      "[[-3.36 -2.36 -1.36 -0.36  0.64]\n",
      " [ 1.64  2.64  3.64  4.64 -4.36]\n",
      " [-3.36 -1.36 -0.36  0.64  1.64]\n",
      " [ 1.64  0.64 -0.36 -1.36 -2.36]\n",
      " [-1.36  0.64  1.64  2.64 -0.36]]\n"
     ]
    }
   ],
   "source": [
    "#ques 4\n",
    "a=np.array([[1,2,3,4,5],[6,7,8,9,0],[1,3,4,5,6],[6,5,4,3,2],[3,5,6,7,4]])\n",
    "a\n",
    "mean = a.mean()\n",
    "res= a- mean\n",
    "print(a)\n",
    "print(res)"
   ]
  },
  {
   "cell_type": "code",
   "execution_count": null,
   "metadata": {},
   "outputs": [],
   "source": [
    "# ques 5\n",
    "a=np.array([[1,2,3,4,5],[6,7,8,9,0],[1,3,4,5,6],[6,5,4,3,2],[3,5,6,7,4]])\n"
   ]
  }
 ],
 "metadata": {
  "kernelspec": {
   "display_name": "Python 3",
   "language": "python",
   "name": "python3"
  },
  "language_info": {
   "codemirror_mode": {
    "name": "ipython",
    "version": 3
   },
   "file_extension": ".py",
   "mimetype": "text/x-python",
   "name": "python",
   "nbconvert_exporter": "python",
   "pygments_lexer": "ipython3",
   "version": "3.11.7"
  }
 },
 "nbformat": 4,
 "nbformat_minor": 2
}
